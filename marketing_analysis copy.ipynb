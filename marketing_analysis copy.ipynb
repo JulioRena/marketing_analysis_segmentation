{
  "cells": [
    {
      "cell_type": "code",
      "execution_count": 58,
      "metadata": {
        "id": "3zyfF5XHlbS5"
      },
      "outputs": [],
      "source": [
        "import pandas as pd\n",
        "import matplotlib.pyplot as plt\n",
        "import seaborn as sns\n",
        "import numpy as np"
      ]
    },
    {
      "cell_type": "code",
      "execution_count": 127,
      "metadata": {
        "id": "X-Ao-rIHljcT"
      },
      "outputs": [],
      "source": [
        "df = pd.read_csv('customer_dataset.csv')"
      ]
    },
    {
      "cell_type": "markdown",
      "metadata": {
        "id": "lwWwINPLjbx9"
      },
      "source": [
        "### EDA"
      ]
    },
    {
      "cell_type": "code",
      "execution_count": 128,
      "metadata": {},
      "outputs": [
        {
          "name": "stdout",
          "output_type": "stream",
          "text": [
            "Número de linhas onde todas as variáveis são vazias ou nulas: 25\n",
            "Número de linhas onde pelo menos uma variável é vazia ou nula: 963\n"
          ]
        }
      ],
      "source": [
        "\n",
        "variaveis_seg = df[['income','spending_score','membership_years','purchase_frequency','last_purchase_amount']]\n",
        "\n",
        "num_all_null_rows = variaveis_seg.isnull().all(axis=1).sum()\n",
        "\n",
        "print(\"Número de linhas onde todas as variáveis são vazias ou nulas:\", num_all_null_rows)\n",
        "\n",
        "num_any_null_rows = variaveis_seg.isnull().any(axis=1).sum()\n",
        "print(\"Número de linhas onde pelo menos uma variável é vazia ou nula:\", num_any_null_rows)"
      ]
    },
    {
      "cell_type": "code",
      "execution_count": 61,
      "metadata": {
        "colab": {
          "base_uri": "https://localhost:8080/"
        },
        "id": "2cFhm-46lnNi",
        "outputId": "7ce8a99d-c3ee-4933-f248-ac5e9ea83ef1"
      },
      "outputs": [
        {
          "name": "stdout",
          "output_type": "stream",
          "text": [
            "<class 'pandas.core.frame.DataFrame'>\n",
            "RangeIndex: 1000 entries, 0 to 999\n",
            "Data columns (total 9 columns):\n",
            " #   Column                Non-Null Count  Dtype  \n",
            "---  ------                --------------  -----  \n",
            " 0   id                    517 non-null    float64\n",
            " 1   age                   451 non-null    float64\n",
            " 2   gender                491 non-null    object \n",
            " 3   income                512 non-null    float64\n",
            " 4   spending_score        465 non-null    float64\n",
            " 5   membership_years      484 non-null    float64\n",
            " 6   purchase_frequency    515 non-null    float64\n",
            " 7   preferred_category    505 non-null    object \n",
            " 8   last_purchase_amount  497 non-null    float64\n",
            "dtypes: float64(7), object(2)\n",
            "memory usage: 70.4+ KB\n",
            "(1000, 9)\n"
          ]
        }
      ],
      "source": [
        "df.info()\n",
        "print(df.shape)"
      ]
    },
    {
      "cell_type": "code",
      "execution_count": 62,
      "metadata": {
        "colab": {
          "base_uri": "https://localhost:8080/",
          "height": 226
        },
        "id": "gNrpltaGlqTo",
        "outputId": "38a10ec9-829a-41f8-a93d-77db4dba6485"
      },
      "outputs": [
        {
          "data": {
            "text/html": [
              "<div>\n",
              "<style scoped>\n",
              "    .dataframe tbody tr th:only-of-type {\n",
              "        vertical-align: middle;\n",
              "    }\n",
              "\n",
              "    .dataframe tbody tr th {\n",
              "        vertical-align: top;\n",
              "    }\n",
              "\n",
              "    .dataframe thead th {\n",
              "        text-align: right;\n",
              "    }\n",
              "</style>\n",
              "<table border=\"1\" class=\"dataframe\">\n",
              "  <thead>\n",
              "    <tr style=\"text-align: right;\">\n",
              "      <th></th>\n",
              "      <th>id</th>\n",
              "      <th>age</th>\n",
              "      <th>gender</th>\n",
              "      <th>income</th>\n",
              "      <th>spending_score</th>\n",
              "      <th>membership_years</th>\n",
              "      <th>purchase_frequency</th>\n",
              "      <th>preferred_category</th>\n",
              "      <th>last_purchase_amount</th>\n",
              "    </tr>\n",
              "  </thead>\n",
              "  <tbody>\n",
              "    <tr>\n",
              "      <th>995</th>\n",
              "      <td>996.0</td>\n",
              "      <td>57.0</td>\n",
              "      <td>NaN</td>\n",
              "      <td>112170.0</td>\n",
              "      <td>NaN</td>\n",
              "      <td>6.0</td>\n",
              "      <td>1.0</td>\n",
              "      <td>Clothing</td>\n",
              "      <td>313.64</td>\n",
              "    </tr>\n",
              "    <tr>\n",
              "      <th>996</th>\n",
              "      <td>NaN</td>\n",
              "      <td>NaN</td>\n",
              "      <td>Other</td>\n",
              "      <td>65337.0</td>\n",
              "      <td>NaN</td>\n",
              "      <td>10.0</td>\n",
              "      <td>NaN</td>\n",
              "      <td>NaN</td>\n",
              "      <td>NaN</td>\n",
              "    </tr>\n",
              "    <tr>\n",
              "      <th>997</th>\n",
              "      <td>998.0</td>\n",
              "      <td>23.0</td>\n",
              "      <td>NaN</td>\n",
              "      <td>NaN</td>\n",
              "      <td>NaN</td>\n",
              "      <td>NaN</td>\n",
              "      <td>42.0</td>\n",
              "      <td>Sports</td>\n",
              "      <td>NaN</td>\n",
              "    </tr>\n",
              "    <tr>\n",
              "      <th>998</th>\n",
              "      <td>NaN</td>\n",
              "      <td>22.0</td>\n",
              "      <td>Female</td>\n",
              "      <td>NaN</td>\n",
              "      <td>63.0</td>\n",
              "      <td>NaN</td>\n",
              "      <td>NaN</td>\n",
              "      <td>Elec</td>\n",
              "      <td>505.16</td>\n",
              "    </tr>\n",
              "    <tr>\n",
              "      <th>999</th>\n",
              "      <td>NaN</td>\n",
              "      <td>36.0</td>\n",
              "      <td>NaN</td>\n",
              "      <td>90420.0</td>\n",
              "      <td>NaN</td>\n",
              "      <td>NaN</td>\n",
              "      <td>31.0</td>\n",
              "      <td>Groceries</td>\n",
              "      <td>NaN</td>\n",
              "    </tr>\n",
              "  </tbody>\n",
              "</table>\n",
              "</div>"
            ],
            "text/plain": [
              "        id   age  gender    income  spending_score  membership_years  \\\n",
              "995  996.0  57.0     NaN  112170.0             NaN               6.0   \n",
              "996    NaN   NaN   Other   65337.0             NaN              10.0   \n",
              "997  998.0  23.0     NaN       NaN             NaN               NaN   \n",
              "998    NaN  22.0  Female       NaN            63.0               NaN   \n",
              "999    NaN  36.0     NaN   90420.0             NaN               NaN   \n",
              "\n",
              "     purchase_frequency preferred_category  last_purchase_amount  \n",
              "995                 1.0           Clothing                313.64  \n",
              "996                 NaN                NaN                   NaN  \n",
              "997                42.0             Sports                   NaN  \n",
              "998                 NaN               Elec                505.16  \n",
              "999                31.0          Groceries                   NaN  "
            ]
          },
          "execution_count": 62,
          "metadata": {},
          "output_type": "execute_result"
        }
      ],
      "source": [
        "df.tail()"
      ]
    },
    {
      "cell_type": "code",
      "execution_count": 63,
      "metadata": {
        "colab": {
          "base_uri": "https://localhost:8080/"
        },
        "id": "JvgeB5j4mBBx",
        "outputId": "217ae574-d2ac-4298-ae49-9bd3b288346e"
      },
      "outputs": [
        {
          "data": {
            "text/plain": [
              "preferred_category\n",
              "Elec             112\n",
              "Home & Garden    109\n",
              "Groceries        104\n",
              "Sports            99\n",
              "Clothing          81\n",
              "Name: count, dtype: int64"
            ]
          },
          "execution_count": 63,
          "metadata": {},
          "output_type": "execute_result"
        }
      ],
      "source": [
        "df['preferred_category'].value_counts()"
      ]
    },
    {
      "cell_type": "code",
      "execution_count": 64,
      "metadata": {
        "id": "SAyRDN3PmFMZ"
      },
      "outputs": [],
      "source": [
        "df['id'] = df['id'].astype(str)\n"
      ]
    },
    {
      "cell_type": "code",
      "execution_count": null,
      "metadata": {
        "id": "r1OsYIvdoNYy"
      },
      "outputs": [],
      "source": []
    },
    {
      "cell_type": "code",
      "execution_count": 65,
      "metadata": {
        "colab": {
          "base_uri": "https://localhost:8080/"
        },
        "id": "ghrOiXyFopoi",
        "outputId": "2ddd044c-9f9e-4b0a-84f9-e50a07ff19d1"
      },
      "outputs": [
        {
          "name": "stdout",
          "output_type": "stream",
          "text": [
            "<class 'pandas.core.frame.DataFrame'>\n",
            "RangeIndex: 1000 entries, 0 to 999\n",
            "Data columns (total 9 columns):\n",
            " #   Column                Non-Null Count  Dtype  \n",
            "---  ------                --------------  -----  \n",
            " 0   id                    1000 non-null   object \n",
            " 1   age                   451 non-null    float64\n",
            " 2   gender                491 non-null    object \n",
            " 3   income                512 non-null    float64\n",
            " 4   spending_score        465 non-null    float64\n",
            " 5   membership_years      484 non-null    float64\n",
            " 6   purchase_frequency    515 non-null    float64\n",
            " 7   preferred_category    505 non-null    object \n",
            " 8   last_purchase_amount  497 non-null    float64\n",
            "dtypes: float64(6), object(3)\n",
            "memory usage: 70.4+ KB\n"
          ]
        }
      ],
      "source": [
        "df.info()"
      ]
    },
    {
      "cell_type": "code",
      "execution_count": 66,
      "metadata": {
        "colab": {
          "base_uri": "https://localhost:8080/"
        },
        "id": "bwNpotQSoqkr",
        "outputId": "159e0974-c946-46cf-8d8b-23e0aa09e4d0"
      },
      "outputs": [
        {
          "data": {
            "text/plain": [
              "np.int64(549)"
            ]
          },
          "execution_count": 66,
          "metadata": {},
          "output_type": "execute_result"
        }
      ],
      "source": [
        "df['age'].isnull().sum()"
      ]
    },
    {
      "cell_type": "code",
      "execution_count": 67,
      "metadata": {
        "colab": {
          "base_uri": "https://localhost:8080/",
          "height": 300
        },
        "id": "WOiiWnpkp0Rs",
        "outputId": "dcaff035-b388-437e-ecca-0e0dba346637"
      },
      "outputs": [
        {
          "data": {
            "text/html": [
              "<div>\n",
              "<style scoped>\n",
              "    .dataframe tbody tr th:only-of-type {\n",
              "        vertical-align: middle;\n",
              "    }\n",
              "\n",
              "    .dataframe tbody tr th {\n",
              "        vertical-align: top;\n",
              "    }\n",
              "\n",
              "    .dataframe thead th {\n",
              "        text-align: right;\n",
              "    }\n",
              "</style>\n",
              "<table border=\"1\" class=\"dataframe\">\n",
              "  <thead>\n",
              "    <tr style=\"text-align: right;\">\n",
              "      <th></th>\n",
              "      <th>age</th>\n",
              "      <th>income</th>\n",
              "      <th>spending_score</th>\n",
              "      <th>membership_years</th>\n",
              "      <th>purchase_frequency</th>\n",
              "      <th>last_purchase_amount</th>\n",
              "    </tr>\n",
              "  </thead>\n",
              "  <tbody>\n",
              "    <tr>\n",
              "      <th>count</th>\n",
              "      <td>451.000000</td>\n",
              "      <td>5.120000e+02</td>\n",
              "      <td>465.000000</td>\n",
              "      <td>484.000000</td>\n",
              "      <td>515.000000</td>\n",
              "      <td>497.000000</td>\n",
              "    </tr>\n",
              "    <tr>\n",
              "      <th>mean</th>\n",
              "      <td>43.168514</td>\n",
              "      <td>9.820104e+04</td>\n",
              "      <td>52.494624</td>\n",
              "      <td>5.528926</td>\n",
              "      <td>26.019417</td>\n",
              "      <td>502.134547</td>\n",
              "    </tr>\n",
              "    <tr>\n",
              "      <th>std</th>\n",
              "      <td>15.258746</td>\n",
              "      <td>1.041681e+05</td>\n",
              "      <td>30.179857</td>\n",
              "      <td>2.851971</td>\n",
              "      <td>14.386400</td>\n",
              "      <td>301.032609</td>\n",
              "    </tr>\n",
              "    <tr>\n",
              "      <th>min</th>\n",
              "      <td>18.000000</td>\n",
              "      <td>3.005800e+04</td>\n",
              "      <td>1.000000</td>\n",
              "      <td>1.000000</td>\n",
              "      <td>1.000000</td>\n",
              "      <td>10.400000</td>\n",
              "    </tr>\n",
              "    <tr>\n",
              "      <th>25%</th>\n",
              "      <td>30.000000</td>\n",
              "      <td>5.869500e+04</td>\n",
              "      <td>28.000000</td>\n",
              "      <td>3.000000</td>\n",
              "      <td>14.000000</td>\n",
              "      <td>215.920000</td>\n",
              "    </tr>\n",
              "    <tr>\n",
              "      <th>50%</th>\n",
              "      <td>43.000000</td>\n",
              "      <td>8.789650e+04</td>\n",
              "      <td>50.000000</td>\n",
              "      <td>5.500000</td>\n",
              "      <td>26.000000</td>\n",
              "      <td>495.490000</td>\n",
              "    </tr>\n",
              "    <tr>\n",
              "      <th>75%</th>\n",
              "      <td>56.000000</td>\n",
              "      <td>1.156020e+05</td>\n",
              "      <td>78.000000</td>\n",
              "      <td>8.000000</td>\n",
              "      <td>38.000000</td>\n",
              "      <td>772.890000</td>\n",
              "    </tr>\n",
              "    <tr>\n",
              "      <th>max</th>\n",
              "      <td>69.000000</td>\n",
              "      <td>1.479620e+06</td>\n",
              "      <td>210.000000</td>\n",
              "      <td>10.000000</td>\n",
              "      <td>50.000000</td>\n",
              "      <td>998.510000</td>\n",
              "    </tr>\n",
              "  </tbody>\n",
              "</table>\n",
              "</div>"
            ],
            "text/plain": [
              "              age        income  spending_score  membership_years  \\\n",
              "count  451.000000  5.120000e+02      465.000000        484.000000   \n",
              "mean    43.168514  9.820104e+04       52.494624          5.528926   \n",
              "std     15.258746  1.041681e+05       30.179857          2.851971   \n",
              "min     18.000000  3.005800e+04        1.000000          1.000000   \n",
              "25%     30.000000  5.869500e+04       28.000000          3.000000   \n",
              "50%     43.000000  8.789650e+04       50.000000          5.500000   \n",
              "75%     56.000000  1.156020e+05       78.000000          8.000000   \n",
              "max     69.000000  1.479620e+06      210.000000         10.000000   \n",
              "\n",
              "       purchase_frequency  last_purchase_amount  \n",
              "count          515.000000            497.000000  \n",
              "mean            26.019417            502.134547  \n",
              "std             14.386400            301.032609  \n",
              "min              1.000000             10.400000  \n",
              "25%             14.000000            215.920000  \n",
              "50%             26.000000            495.490000  \n",
              "75%             38.000000            772.890000  \n",
              "max             50.000000            998.510000  "
            ]
          },
          "execution_count": 67,
          "metadata": {},
          "output_type": "execute_result"
        }
      ],
      "source": [
        "df.describe()"
      ]
    },
    {
      "cell_type": "markdown",
      "metadata": {
        "id": "SK37JFVnjgMY"
      },
      "source": [
        "##Tratamento valores nulos"
      ]
    },
    {
      "cell_type": "code",
      "execution_count": 68,
      "metadata": {
        "id": "mB-ZCP9WqWYM"
      },
      "outputs": [],
      "source": [
        "def tratar_nulos_media(df, colunas):\n",
        "    for i in colunas:\n",
        "        df[i] = df[i].fillna(df[i].mean())\n",
        "    # df['income'] = df['income'].fillna(df['income'].mean())\n",
        "    # df['spending_score'] = df['spending_score'].fillna(df['spending_score'].mean())\n",
        "    # df['membership_years'] = df['membership_years'].fillna(df['membership_years'].mean())\n",
        "    # df['purchase_frequency'] = df['purchase_frequency'].fillna(df['purchase_frequency'].mean())\n",
        "    # df['last_purchase_amount'] = df['last_purchase_amount'].fillna(df['last_purchase_amount'].mean())"
      ]
    },
    {
      "cell_type": "code",
      "execution_count": 69,
      "metadata": {},
      "outputs": [],
      "source": [
        "#tratar_nulos_media(df=df, colunas=['income','spending_score','membership_years','purchase_frequency','last_purchase_amount','age'])"
      ]
    },
    {
      "cell_type": "code",
      "execution_count": 70,
      "metadata": {
        "colab": {
          "base_uri": "https://localhost:8080/"
        },
        "id": "rEuwEd5CrQq9",
        "outputId": "171db45e-93ca-4689-9342-1f4af46b39eb"
      },
      "outputs": [
        {
          "name": "stdout",
          "output_type": "stream",
          "text": [
            "<class 'pandas.core.frame.DataFrame'>\n",
            "RangeIndex: 1000 entries, 0 to 999\n",
            "Data columns (total 9 columns):\n",
            " #   Column                Non-Null Count  Dtype  \n",
            "---  ------                --------------  -----  \n",
            " 0   id                    1000 non-null   object \n",
            " 1   age                   451 non-null    float64\n",
            " 2   gender                491 non-null    object \n",
            " 3   income                512 non-null    float64\n",
            " 4   spending_score        465 non-null    float64\n",
            " 5   membership_years      484 non-null    float64\n",
            " 6   purchase_frequency    515 non-null    float64\n",
            " 7   preferred_category    505 non-null    object \n",
            " 8   last_purchase_amount  497 non-null    float64\n",
            "dtypes: float64(6), object(3)\n",
            "memory usage: 70.4+ KB\n"
          ]
        }
      ],
      "source": [
        "df.info()"
      ]
    },
    {
      "cell_type": "code",
      "execution_count": 71,
      "metadata": {
        "colab": {
          "base_uri": "https://localhost:8080/"
        },
        "id": "NLidpSHKsz7e",
        "outputId": "ea29f8a9-bbac-443d-af17-f15f13343dbc"
      },
      "outputs": [
        {
          "data": {
            "text/plain": [
              "gender\n",
              "Other     166\n",
              "Male       95\n",
              "Female     67\n",
              "M          51\n",
              "male       44\n",
              "female     41\n",
              "F          27\n",
              "Name: count, dtype: int64"
            ]
          },
          "execution_count": 71,
          "metadata": {},
          "output_type": "execute_result"
        }
      ],
      "source": [
        "df['gender'].value_counts()"
      ]
    },
    {
      "cell_type": "markdown",
      "metadata": {
        "id": "MZYlcPxWjnlM"
      },
      "source": [
        "## Transformando valores categoricos"
      ]
    },
    {
      "cell_type": "code",
      "execution_count": 72,
      "metadata": {
        "id": "BYtAyb46tCnO"
      },
      "outputs": [],
      "source": [
        "female = ['female', 'F']\n",
        "male = ['male', 'M', 'M ']\n",
        "\n",
        "def padronizar_cat(df, coluna, lista_valores, valor):\n",
        "    for i in lista_valores:\n",
        "        df[coluna] = df[coluna].replace(i, valor)\n",
        "        return df[coluna].value_counts()\n",
        "\n",
        "\n",
        "df['gender'] = df['gender'].replace('female', 'Female')\n",
        "df['gender'] = df['gender'].replace('F', 'Female')\n",
        "df['gender'] = df['gender'].replace('M', 'Male')\n",
        "df['gender'] = df['gender'].replace('male', 'Male')"
      ]
    },
    {
      "cell_type": "code",
      "execution_count": 73,
      "metadata": {},
      "outputs": [
        {
          "data": {
            "text/plain": [
              "gender\n",
              "Male      190\n",
              "Other     166\n",
              "Female    135\n",
              "Name: count, dtype: int64"
            ]
          },
          "execution_count": 73,
          "metadata": {},
          "output_type": "execute_result"
        }
      ],
      "source": [
        "padronizar_cat(df, 'gender', female, 'Female')"
      ]
    },
    {
      "cell_type": "code",
      "execution_count": 74,
      "metadata": {},
      "outputs": [
        {
          "data": {
            "text/plain": [
              "gender\n",
              "Male      190\n",
              "Other     166\n",
              "Female    135\n",
              "Name: count, dtype: int64"
            ]
          },
          "execution_count": 74,
          "metadata": {},
          "output_type": "execute_result"
        }
      ],
      "source": [
        "padronizar_cat(df,'gender', male, 'Male')"
      ]
    },
    {
      "cell_type": "code",
      "execution_count": 75,
      "metadata": {
        "colab": {
          "base_uri": "https://localhost:8080/"
        },
        "id": "M6WBo5e1uW-X",
        "outputId": "043266e9-0440-470f-e693-86d16c82cef6"
      },
      "outputs": [
        {
          "data": {
            "text/plain": [
              "preferred_category\n",
              "Elec             112\n",
              "Home & Garden    109\n",
              "Groceries        104\n",
              "Sports            99\n",
              "Clothing          81\n",
              "Name: count, dtype: int64"
            ]
          },
          "execution_count": 75,
          "metadata": {},
          "output_type": "execute_result"
        }
      ],
      "source": [
        "df['preferred_category'].value_counts()"
      ]
    },
    {
      "cell_type": "code",
      "execution_count": 76,
      "metadata": {
        "id": "oerpjqFmuW68"
      },
      "outputs": [],
      "source": [
        "df['gender'] = df['gender'].fillna('Unknown')"
      ]
    },
    {
      "cell_type": "code",
      "execution_count": 77,
      "metadata": {
        "id": "Rji0dEgB3XUQ"
      },
      "outputs": [],
      "source": [
        "df['preferred_category'] = df['preferred_category'].fillna('Unknown')"
      ]
    },
    {
      "cell_type": "code",
      "execution_count": 78,
      "metadata": {
        "colab": {
          "base_uri": "https://localhost:8080/"
        },
        "id": "3xkjdifl3fc0",
        "outputId": "26a3c0c7-0dc4-43c0-fdf5-1cec79170640"
      },
      "outputs": [
        {
          "data": {
            "text/plain": [
              "preferred_category\n",
              "Unknown          0.495\n",
              "Elec             0.112\n",
              "Home & Garden    0.109\n",
              "Groceries        0.104\n",
              "Sports           0.099\n",
              "Clothing         0.081\n",
              "Name: proportion, dtype: float64"
            ]
          },
          "execution_count": 78,
          "metadata": {},
          "output_type": "execute_result"
        }
      ],
      "source": [
        "df['preferred_category'].value_counts(normalize=True)"
      ]
    },
    {
      "cell_type": "code",
      "execution_count": 79,
      "metadata": {
        "colab": {
          "base_uri": "https://localhost:8080/"
        },
        "id": "EsiGL3qG35TM",
        "outputId": "3987bedf-75ad-424e-d264-595ceebeb263"
      },
      "outputs": [
        {
          "data": {
            "text/plain": [
              "gender\n",
              "Unknown    0.509\n",
              "Male       0.190\n",
              "Other      0.166\n",
              "Female     0.135\n",
              "Name: proportion, dtype: float64"
            ]
          },
          "execution_count": 79,
          "metadata": {},
          "output_type": "execute_result"
        }
      ],
      "source": [
        "df['gender'].value_counts(normalize=True)"
      ]
    },
    {
      "cell_type": "code",
      "execution_count": 80,
      "metadata": {
        "colab": {
          "base_uri": "https://localhost:8080/"
        },
        "id": "rAacXHXOsqoE",
        "outputId": "36be63b9-dd5b-4924-b4ab-fdcf3ddefd7a"
      },
      "outputs": [
        {
          "name": "stdout",
          "output_type": "stream",
          "text": [
            "<class 'pandas.core.frame.DataFrame'>\n",
            "RangeIndex: 1000 entries, 0 to 999\n",
            "Data columns (total 9 columns):\n",
            " #   Column                Non-Null Count  Dtype  \n",
            "---  ------                --------------  -----  \n",
            " 0   id                    1000 non-null   object \n",
            " 1   age                   451 non-null    float64\n",
            " 2   gender                1000 non-null   object \n",
            " 3   income                512 non-null    float64\n",
            " 4   spending_score        465 non-null    float64\n",
            " 5   membership_years      484 non-null    float64\n",
            " 6   purchase_frequency    515 non-null    float64\n",
            " 7   preferred_category    1000 non-null   object \n",
            " 8   last_purchase_amount  497 non-null    float64\n",
            "dtypes: float64(6), object(3)\n",
            "memory usage: 70.4+ KB\n"
          ]
        }
      ],
      "source": [
        "df.info()"
      ]
    },
    {
      "cell_type": "markdown",
      "metadata": {
        "id": "PIe88tUBjvNu"
      },
      "source": [
        "## Transformando tipo das variáveis"
      ]
    },
    {
      "cell_type": "code",
      "execution_count": 81,
      "metadata": {},
      "outputs": [],
      "source": [
        "df['age'] = df['age'].round()"
      ]
    },
    {
      "cell_type": "code",
      "execution_count": 82,
      "metadata": {
        "id": "s02GYXiH4DNq"
      },
      "outputs": [],
      "source": [
        "#df['age'] = df['age'].astype(int)\n",
        "#df['income'] = df['income'].astype(int)"
      ]
    },
    {
      "cell_type": "code",
      "execution_count": 83,
      "metadata": {
        "colab": {
          "base_uri": "https://localhost:8080/",
          "height": 226
        },
        "id": "Bh2BlFIu4lkS",
        "outputId": "33ce4c56-bd86-4c02-f086-0a2f1bc8aaa2"
      },
      "outputs": [
        {
          "data": {
            "text/html": [
              "<div>\n",
              "<style scoped>\n",
              "    .dataframe tbody tr th:only-of-type {\n",
              "        vertical-align: middle;\n",
              "    }\n",
              "\n",
              "    .dataframe tbody tr th {\n",
              "        vertical-align: top;\n",
              "    }\n",
              "\n",
              "    .dataframe thead th {\n",
              "        text-align: right;\n",
              "    }\n",
              "</style>\n",
              "<table border=\"1\" class=\"dataframe\">\n",
              "  <thead>\n",
              "    <tr style=\"text-align: right;\">\n",
              "      <th></th>\n",
              "      <th>id</th>\n",
              "      <th>age</th>\n",
              "      <th>gender</th>\n",
              "      <th>income</th>\n",
              "      <th>spending_score</th>\n",
              "      <th>membership_years</th>\n",
              "      <th>purchase_frequency</th>\n",
              "      <th>preferred_category</th>\n",
              "      <th>last_purchase_amount</th>\n",
              "    </tr>\n",
              "  </thead>\n",
              "  <tbody>\n",
              "    <tr>\n",
              "      <th>0</th>\n",
              "      <td>1.0</td>\n",
              "      <td>NaN</td>\n",
              "      <td>Unknown</td>\n",
              "      <td>99342.0</td>\n",
              "      <td>NaN</td>\n",
              "      <td>NaN</td>\n",
              "      <td>NaN</td>\n",
              "      <td>Unknown</td>\n",
              "      <td>NaN</td>\n",
              "    </tr>\n",
              "    <tr>\n",
              "      <th>1</th>\n",
              "      <td>nan</td>\n",
              "      <td>NaN</td>\n",
              "      <td>Female</td>\n",
              "      <td>78852.0</td>\n",
              "      <td>NaN</td>\n",
              "      <td>2.0</td>\n",
              "      <td>42.0</td>\n",
              "      <td>Sports</td>\n",
              "      <td>41.93</td>\n",
              "    </tr>\n",
              "    <tr>\n",
              "      <th>2</th>\n",
              "      <td>3.0</td>\n",
              "      <td>NaN</td>\n",
              "      <td>Female</td>\n",
              "      <td>NaN</td>\n",
              "      <td>NaN</td>\n",
              "      <td>2.0</td>\n",
              "      <td>28.0</td>\n",
              "      <td>Unknown</td>\n",
              "      <td>NaN</td>\n",
              "    </tr>\n",
              "    <tr>\n",
              "      <th>3</th>\n",
              "      <td>nan</td>\n",
              "      <td>NaN</td>\n",
              "      <td>Other</td>\n",
              "      <td>NaN</td>\n",
              "      <td>74.0</td>\n",
              "      <td>NaN</td>\n",
              "      <td>5.0</td>\n",
              "      <td>Unknown</td>\n",
              "      <td>NaN</td>\n",
              "    </tr>\n",
              "    <tr>\n",
              "      <th>4</th>\n",
              "      <td>5.0</td>\n",
              "      <td>NaN</td>\n",
              "      <td>Unknown</td>\n",
              "      <td>140621.0</td>\n",
              "      <td>210.0</td>\n",
              "      <td>NaN</td>\n",
              "      <td>25.0</td>\n",
              "      <td>Unknown</td>\n",
              "      <td>NaN</td>\n",
              "    </tr>\n",
              "  </tbody>\n",
              "</table>\n",
              "</div>"
            ],
            "text/plain": [
              "    id  age   gender    income  spending_score  membership_years  \\\n",
              "0  1.0  NaN  Unknown   99342.0             NaN               NaN   \n",
              "1  nan  NaN   Female   78852.0             NaN               2.0   \n",
              "2  3.0  NaN   Female       NaN             NaN               2.0   \n",
              "3  nan  NaN    Other       NaN            74.0               NaN   \n",
              "4  5.0  NaN  Unknown  140621.0           210.0               NaN   \n",
              "\n",
              "   purchase_frequency preferred_category  last_purchase_amount  \n",
              "0                 NaN            Unknown                   NaN  \n",
              "1                42.0             Sports                 41.93  \n",
              "2                28.0            Unknown                   NaN  \n",
              "3                 5.0            Unknown                   NaN  \n",
              "4                25.0            Unknown                   NaN  "
            ]
          },
          "execution_count": 83,
          "metadata": {},
          "output_type": "execute_result"
        }
      ],
      "source": [
        "df.head()"
      ]
    },
    {
      "cell_type": "markdown",
      "metadata": {
        "id": "Hsn_H2c3j3i5"
      },
      "source": [
        "## visualização de distribuição"
      ]
    },
    {
      "cell_type": "code",
      "execution_count": 84,
      "metadata": {
        "colab": {
          "base_uri": "https://localhost:8080/",
          "height": 472
        },
        "id": "ATR5La_5I2Ai",
        "outputId": "dd5daca2-8acc-417a-8071-9c4804b20369"
      },
      "outputs": [
        {
          "data": {
            "image/png": "[encoded data removed]",
            "text/plain": [
              "<Figure size 640x480 with 1 Axes>"
            ]
          },
          "metadata": {},
          "output_type": "display_data"
        }
      ],
      "source": [
        "plt.hist(df['gender'], bins=10)\n",
        "plt.xlabel('Genero')\n",
        "plt.ylabel('Frequência')\n",
        "plt.title('Distribuição de Idade dos Clientes')\n",
        "plt.show()"
      ]
    },
    {
      "cell_type": "code",
      "execution_count": 85,
      "metadata": {
        "id": "ARhkf05XRJ8a"
      },
      "outputs": [],
      "source": [
        "df = df[df['spending_score'] <= 100]"
      ]
    },
    {
      "cell_type": "code",
      "execution_count": 86,
      "metadata": {
        "colab": {
          "base_uri": "https://localhost:8080/",
          "height": 472
        },
        "id": "24KDQTG2Kseq",
        "outputId": "8e0adb94-8691-4195-ffbd-c4053461e719"
      },
      "outputs": [
        {
          "data": {
            "image/png": "[encoded data removed]",
            "text/plain": [
              "<Figure size 640x480 with 1 Axes>"
            ]
          },
          "metadata": {},
          "output_type": "display_data"
        }
      ],
      "source": [
        "plt.scatter(df['income'], df['spending_score'])\n",
        "plt.xlabel('Renda')\n",
        "plt.ylabel('Pontuação de Gastos')\n",
        "plt.title('Relação entre Renda e Pontuação de Gastos')\n",
        "plt.show()"
      ]
    },
    {
      "cell_type": "markdown",
      "metadata": {
        "id": "iowQEbXpj7du"
      },
      "source": [
        "# Criando Segmentação"
      ]
    },
    {
      "cell_type": "code",
      "execution_count": 87,
      "metadata": {
        "id": "dLpwXPOhMkdO"
      },
      "outputs": [],
      "source": [
        "\n",
        "df['faixa_renda'],bins = pd.qcut(df['income'], q=3,retbins=True, duplicates='drop')"
      ]
    },
    {
      "cell_type": "code",
      "execution_count": 88,
      "metadata": {},
      "outputs": [
        {
          "data": {
            "text/plain": [
              "faixa_renda\n",
              "(31153.999, 66656.0]    78\n",
              "(66656.0, 102123.0]     78\n",
              "(102123.0, 561250.0]    78\n",
              "Name: count, dtype: int64"
            ]
          },
          "execution_count": 88,
          "metadata": {},
          "output_type": "execute_result"
        }
      ],
      "source": [
        "df['faixa_renda'].value_counts()"
      ]
    },
    {
      "cell_type": "code",
      "execution_count": 89,
      "metadata": {
        "colab": {
          "base_uri": "https://localhost:8080/",
          "height": 313
        },
        "id": "XO0ZPwyUTAkb",
        "outputId": "0da662a8-3bf5-4c3b-f286-06842fa081f5"
      },
      "outputs": [
        {
          "data": {
            "text/html": [
              "<div>\n",
              "<style scoped>\n",
              "    .dataframe tbody tr th:only-of-type {\n",
              "        vertical-align: middle;\n",
              "    }\n",
              "\n",
              "    .dataframe tbody tr th {\n",
              "        vertical-align: top;\n",
              "    }\n",
              "\n",
              "    .dataframe thead th {\n",
              "        text-align: right;\n",
              "    }\n",
              "</style>\n",
              "<table border=\"1\" class=\"dataframe\">\n",
              "  <thead>\n",
              "    <tr style=\"text-align: right;\">\n",
              "      <th></th>\n",
              "      <th>id</th>\n",
              "      <th>age</th>\n",
              "      <th>gender</th>\n",
              "      <th>income</th>\n",
              "      <th>spending_score</th>\n",
              "      <th>membership_years</th>\n",
              "      <th>purchase_frequency</th>\n",
              "      <th>preferred_category</th>\n",
              "      <th>last_purchase_amount</th>\n",
              "      <th>faixa_renda</th>\n",
              "    </tr>\n",
              "  </thead>\n",
              "  <tbody>\n",
              "    <tr>\n",
              "      <th>3</th>\n",
              "      <td>nan</td>\n",
              "      <td>NaN</td>\n",
              "      <td>Other</td>\n",
              "      <td>NaN</td>\n",
              "      <td>74.0</td>\n",
              "      <td>NaN</td>\n",
              "      <td>5.0</td>\n",
              "      <td>Unknown</td>\n",
              "      <td>NaN</td>\n",
              "      <td>NaN</td>\n",
              "    </tr>\n",
              "    <tr>\n",
              "      <th>6</th>\n",
              "      <td>nan</td>\n",
              "      <td>19.0</td>\n",
              "      <td>Unknown</td>\n",
              "      <td>54319.0</td>\n",
              "      <td>68.0</td>\n",
              "      <td>NaN</td>\n",
              "      <td>NaN</td>\n",
              "      <td>Clothing</td>\n",
              "      <td>NaN</td>\n",
              "      <td>(31153.999, 66656.0]</td>\n",
              "    </tr>\n",
              "    <tr>\n",
              "      <th>7</th>\n",
              "      <td>8.0</td>\n",
              "      <td>NaN</td>\n",
              "      <td>Male</td>\n",
              "      <td>108115.0</td>\n",
              "      <td>94.0</td>\n",
              "      <td>9.0</td>\n",
              "      <td>27.0</td>\n",
              "      <td>Unknown</td>\n",
              "      <td>NaN</td>\n",
              "      <td>(102123.0, 561250.0]</td>\n",
              "    </tr>\n",
              "    <tr>\n",
              "      <th>12</th>\n",
              "      <td>nan</td>\n",
              "      <td>29.0</td>\n",
              "      <td>Unknown</td>\n",
              "      <td>87461.0</td>\n",
              "      <td>81.0</td>\n",
              "      <td>3.0</td>\n",
              "      <td>27.0</td>\n",
              "      <td>Home &amp; Garden</td>\n",
              "      <td>NaN</td>\n",
              "      <td>(66656.0, 102123.0]</td>\n",
              "    </tr>\n",
              "    <tr>\n",
              "      <th>14</th>\n",
              "      <td>nan</td>\n",
              "      <td>NaN</td>\n",
              "      <td>Unknown</td>\n",
              "      <td>NaN</td>\n",
              "      <td>17.0</td>\n",
              "      <td>NaN</td>\n",
              "      <td>NaN</td>\n",
              "      <td>Home &amp; Garden</td>\n",
              "      <td>915.89</td>\n",
              "      <td>NaN</td>\n",
              "    </tr>\n",
              "  </tbody>\n",
              "</table>\n",
              "</div>"
            ],
            "text/plain": [
              "     id   age   gender    income  spending_score  membership_years  \\\n",
              "3   nan   NaN    Other       NaN            74.0               NaN   \n",
              "6   nan  19.0  Unknown   54319.0            68.0               NaN   \n",
              "7   8.0   NaN     Male  108115.0            94.0               9.0   \n",
              "12  nan  29.0  Unknown   87461.0            81.0               3.0   \n",
              "14  nan   NaN  Unknown       NaN            17.0               NaN   \n",
              "\n",
              "    purchase_frequency preferred_category  last_purchase_amount  \\\n",
              "3                  5.0            Unknown                   NaN   \n",
              "6                  NaN           Clothing                   NaN   \n",
              "7                 27.0            Unknown                   NaN   \n",
              "12                27.0      Home & Garden                   NaN   \n",
              "14                 NaN      Home & Garden                915.89   \n",
              "\n",
              "             faixa_renda  \n",
              "3                    NaN  \n",
              "6   (31153.999, 66656.0]  \n",
              "7   (102123.0, 561250.0]  \n",
              "12   (66656.0, 102123.0]  \n",
              "14                   NaN  "
            ]
          },
          "execution_count": 89,
          "metadata": {},
          "output_type": "execute_result"
        }
      ],
      "source": [
        "df.head()"
      ]
    },
    {
      "cell_type": "code",
      "execution_count": 90,
      "metadata": {
        "id": "Aowp_ag3Ttru"
      },
      "outputs": [],
      "source": [
        "income_counts = df['faixa_renda'].value_counts()"
      ]
    },
    {
      "cell_type": "code",
      "execution_count": 91,
      "metadata": {
        "colab": {
          "base_uri": "https://localhost:8080/",
          "height": 521
        },
        "id": "pA6cz-CXVR-5",
        "outputId": "72b241a3-f388-48f5-cead-89fd43c224de"
      },
      "outputs": [
        {
          "data": {
            "image/png": "[encoded data removed]",
            "text/plain": [
              "<Figure size 800x600 with 1 Axes>"
            ]
          },
          "metadata": {},
          "output_type": "display_data"
        }
      ],
      "source": [
        "plt.figure(figsize=(8, 6))\n",
        "plt.pie(income_counts, labels=income_counts.index, autopct='%1.1f%%', startangle=90)\n",
        "plt.title('Distribuição de Renda')\n",
        "plt.show()"
      ]
    },
    {
      "cell_type": "code",
      "execution_count": 92,
      "metadata": {
        "colab": {
          "base_uri": "https://localhost:8080/",
          "height": 575
        },
        "id": "7Os_PIxMV9vc",
        "outputId": "03fbb67d-924b-4f02-ee1f-6abb637c765c"
      },
      "outputs": [
        {
          "name": "stderr",
          "output_type": "stream",
          "text": [
            "C:\\Users\\julio\\AppData\\Local\\Temp\\ipykernel_11976\\2247248303.py:1: FutureWarning: The default of observed=False is deprecated and will be changed to True in a future version of pandas. Pass observed=False to retain current behavior or observed=True to adopt the future default and silence this warning.\n",
            "  df.groupby('faixa_renda')['spending_score'].mean().plot(kind='bar')\n"
          ]
        },
        {
          "data": {
            "image/png": "[encoded data removed]",
            "text/plain": [
              "<Figure size 640x480 with 1 Axes>"
            ]
          },
          "metadata": {},
          "output_type": "display_data"
        }
      ],
      "source": [
        "df.groupby('faixa_renda')['spending_score'].mean().plot(kind='bar')\n",
        "plt.title('Média do Spending Score por Faixa de Renda')\n",
        "plt.xlabel('Faixa de Renda')\n",
        "plt.ylabel('Média do Spending Score')\n",
        "plt.xticks(rotation=45)\n",
        "plt.show()"
      ]
    },
    {
      "cell_type": "code",
      "execution_count": 93,
      "metadata": {
        "colab": {
          "base_uri": "https://localhost:8080/",
          "height": 667
        },
        "id": "BTMNAN_5Xv64",
        "outputId": "c8dc0997-4e8f-4825-b9b5-13cd4ed09f20"
      },
      "outputs": [
        {
          "data": {
            "image/png": "[encoded data removed]",
            "text/plain": [
              "<Figure size 800x600 with 1 Axes>"
            ]
          },
          "metadata": {},
          "output_type": "display_data"
        }
      ],
      "source": [
        "\n",
        "plt.figure(figsize=(8, 6))\n",
        "sns.stripplot(x='faixa_renda', y=df['spending_score'], data=df, jitter=True, dodge=True)\n",
        "plt.title('Relação entre Faixa de Renda e Spending Score (com Jittering)')\n",
        "plt.xlabel('Faixa de Renda')\n",
        "plt.ylabel('Spending Score')\n",
        "plt.xticks(rotation=45)\n",
        "plt.show()"
      ]
    },
    {
      "cell_type": "code",
      "execution_count": 94,
      "metadata": {
        "colab": {
          "base_uri": "https://localhost:8080/"
        },
        "id": "Dqk1RgEhYG84",
        "outputId": "f9fa8f39-5232-418d-82a7-73c8aab46d1c"
      },
      "outputs": [
        {
          "name": "stdout",
          "output_type": "stream",
          "text": [
            "<class 'pandas.core.series.Series'>\n",
            "Index: 464 entries, 3 to 998\n",
            "Series name: faixa_renda\n",
            "Non-Null Count  Dtype   \n",
            "--------------  -----   \n",
            "234 non-null    category\n",
            "dtypes: category(1)\n",
            "memory usage: 4.2 KB\n"
          ]
        }
      ],
      "source": [
        "df['faixa_renda'].info()"
      ]
    },
    {
      "cell_type": "code",
      "execution_count": 95,
      "metadata": {
        "colab": {
          "base_uri": "https://localhost:8080/"
        },
        "id": "rd86MCrtR2ve",
        "outputId": "0d931fa4-a896-4f5c-e36c-a4ad43ca5fbf"
      },
      "outputs": [
        {
          "data": {
            "text/plain": [
              "faixa_renda\n",
              "(31153.999, 66656.0]    78\n",
              "(66656.0, 102123.0]     78\n",
              "(102123.0, 561250.0]    78\n",
              "Name: count, dtype: int64"
            ]
          },
          "execution_count": 95,
          "metadata": {},
          "output_type": "execute_result"
        }
      ],
      "source": [
        "df['faixa_renda'].value_counts()"
      ]
    },
    {
      "cell_type": "code",
      "execution_count": 96,
      "metadata": {
        "id": "UmyOM4ZdYMwI"
      },
      "outputs": [],
      "source": [
        "mapeamento_renda = {\n",
        "\n",
        "    '(31153.999, 66656.0]': 1,\n",
        "    '(66656.0, 102123.0]': 2,\n",
        "    '(102123.0, 561250.0]': 3    \n",
        "}\n",
        "\n",
        "\n",
        "df['income_level'] = df['faixa_renda'].astype(str).map(mapeamento_renda)\n"
      ]
    },
    {
      "cell_type": "code",
      "execution_count": 97,
      "metadata": {
        "colab": {
          "base_uri": "https://localhost:8080/",
          "height": 313
        },
        "id": "RwfPU28TOXjE",
        "outputId": "277ef905-045f-4c8e-dcef-dee83961417a"
      },
      "outputs": [
        {
          "data": {
            "text/html": [
              "<div>\n",
              "<style scoped>\n",
              "    .dataframe tbody tr th:only-of-type {\n",
              "        vertical-align: middle;\n",
              "    }\n",
              "\n",
              "    .dataframe tbody tr th {\n",
              "        vertical-align: top;\n",
              "    }\n",
              "\n",
              "    .dataframe thead th {\n",
              "        text-align: right;\n",
              "    }\n",
              "</style>\n",
              "<table border=\"1\" class=\"dataframe\">\n",
              "  <thead>\n",
              "    <tr style=\"text-align: right;\">\n",
              "      <th></th>\n",
              "      <th>id</th>\n",
              "      <th>age</th>\n",
              "      <th>gender</th>\n",
              "      <th>income</th>\n",
              "      <th>spending_score</th>\n",
              "      <th>membership_years</th>\n",
              "      <th>purchase_frequency</th>\n",
              "      <th>preferred_category</th>\n",
              "      <th>last_purchase_amount</th>\n",
              "      <th>faixa_renda</th>\n",
              "      <th>income_level</th>\n",
              "    </tr>\n",
              "  </thead>\n",
              "  <tbody>\n",
              "    <tr>\n",
              "      <th>3</th>\n",
              "      <td>nan</td>\n",
              "      <td>NaN</td>\n",
              "      <td>Other</td>\n",
              "      <td>NaN</td>\n",
              "      <td>74.0</td>\n",
              "      <td>NaN</td>\n",
              "      <td>5.0</td>\n",
              "      <td>Unknown</td>\n",
              "      <td>NaN</td>\n",
              "      <td>NaN</td>\n",
              "      <td>NaN</td>\n",
              "    </tr>\n",
              "    <tr>\n",
              "      <th>6</th>\n",
              "      <td>nan</td>\n",
              "      <td>19.0</td>\n",
              "      <td>Unknown</td>\n",
              "      <td>54319.0</td>\n",
              "      <td>68.0</td>\n",
              "      <td>NaN</td>\n",
              "      <td>NaN</td>\n",
              "      <td>Clothing</td>\n",
              "      <td>NaN</td>\n",
              "      <td>(31153.999, 66656.0]</td>\n",
              "      <td>1.0</td>\n",
              "    </tr>\n",
              "    <tr>\n",
              "      <th>7</th>\n",
              "      <td>8.0</td>\n",
              "      <td>NaN</td>\n",
              "      <td>Male</td>\n",
              "      <td>108115.0</td>\n",
              "      <td>94.0</td>\n",
              "      <td>9.0</td>\n",
              "      <td>27.0</td>\n",
              "      <td>Unknown</td>\n",
              "      <td>NaN</td>\n",
              "      <td>(102123.0, 561250.0]</td>\n",
              "      <td>3.0</td>\n",
              "    </tr>\n",
              "    <tr>\n",
              "      <th>12</th>\n",
              "      <td>nan</td>\n",
              "      <td>29.0</td>\n",
              "      <td>Unknown</td>\n",
              "      <td>87461.0</td>\n",
              "      <td>81.0</td>\n",
              "      <td>3.0</td>\n",
              "      <td>27.0</td>\n",
              "      <td>Home &amp; Garden</td>\n",
              "      <td>NaN</td>\n",
              "      <td>(66656.0, 102123.0]</td>\n",
              "      <td>2.0</td>\n",
              "    </tr>\n",
              "    <tr>\n",
              "      <th>14</th>\n",
              "      <td>nan</td>\n",
              "      <td>NaN</td>\n",
              "      <td>Unknown</td>\n",
              "      <td>NaN</td>\n",
              "      <td>17.0</td>\n",
              "      <td>NaN</td>\n",
              "      <td>NaN</td>\n",
              "      <td>Home &amp; Garden</td>\n",
              "      <td>915.89</td>\n",
              "      <td>NaN</td>\n",
              "      <td>NaN</td>\n",
              "    </tr>\n",
              "  </tbody>\n",
              "</table>\n",
              "</div>"
            ],
            "text/plain": [
              "     id   age   gender    income  spending_score  membership_years  \\\n",
              "3   nan   NaN    Other       NaN            74.0               NaN   \n",
              "6   nan  19.0  Unknown   54319.0            68.0               NaN   \n",
              "7   8.0   NaN     Male  108115.0            94.0               9.0   \n",
              "12  nan  29.0  Unknown   87461.0            81.0               3.0   \n",
              "14  nan   NaN  Unknown       NaN            17.0               NaN   \n",
              "\n",
              "    purchase_frequency preferred_category  last_purchase_amount  \\\n",
              "3                  5.0            Unknown                   NaN   \n",
              "6                  NaN           Clothing                   NaN   \n",
              "7                 27.0            Unknown                   NaN   \n",
              "12                27.0      Home & Garden                   NaN   \n",
              "14                 NaN      Home & Garden                915.89   \n",
              "\n",
              "             faixa_renda  income_level  \n",
              "3                    NaN           NaN  \n",
              "6   (31153.999, 66656.0]           1.0  \n",
              "7   (102123.0, 561250.0]           3.0  \n",
              "12   (66656.0, 102123.0]           2.0  \n",
              "14                   NaN           NaN  "
            ]
          },
          "execution_count": 97,
          "metadata": {},
          "output_type": "execute_result"
        }
      ],
      "source": [
        "df.head()"
      ]
    },
    {
      "cell_type": "code",
      "execution_count": 98,
      "metadata": {
        "colab": {
          "base_uri": "https://localhost:8080/"
        },
        "id": "cD1FObUXOYdd",
        "outputId": "ae99e96b-88b2-491f-921f-fab9da7edee8"
      },
      "outputs": [
        {
          "data": {
            "text/plain": [
              "income_level\n",
              "1.0    78\n",
              "3.0    78\n",
              "2.0    78\n",
              "Name: count, dtype: int64"
            ]
          },
          "execution_count": 98,
          "metadata": {},
          "output_type": "execute_result"
        }
      ],
      "source": [
        "df['income_level'].value_counts()"
      ]
    },
    {
      "cell_type": "code",
      "execution_count": 103,
      "metadata": {
        "id": "8F8Ux5qoObC9"
      },
      "outputs": [],
      "source": [
        "df['spending_qcut'] = pd.qcut(df['spending_score'], q=3, duplicates='drop')"
      ]
    },
    {
      "cell_type": "code",
      "execution_count": 105,
      "metadata": {
        "colab": {
          "base_uri": "https://localhost:8080/"
        },
        "id": "uTVaCHO9QxZ-",
        "outputId": "7f23d9c0-46b3-4784-f884-7d02f23d717d"
      },
      "outputs": [
        {
          "data": {
            "text/plain": [
              "spending_qcut\n",
              "(0.999, 36.0]    157\n",
              "(36.0, 70.0]     157\n",
              "(70.0, 100.0]    150\n",
              "Name: count, dtype: int64"
            ]
          },
          "execution_count": 105,
          "metadata": {},
          "output_type": "execute_result"
        }
      ],
      "source": [
        "df['spending_qcut'].value_counts()"
      ]
    },
    {
      "cell_type": "code",
      "execution_count": 106,
      "metadata": {
        "id": "3QSibndWQyJT"
      },
      "outputs": [],
      "source": [
        "mapeamento_spending = {\n",
        "    '(0.999, 36.0]':1,\n",
        "    '(36.0, 70.0]':2,\n",
        "    '(70.0, 100.0]':3,\n",
        "}\n",
        "\n",
        "\n",
        "df['spending_level'] = df['spending_qcut'].astype(str).map(mapeamento_spending)"
      ]
    },
    {
      "cell_type": "code",
      "execution_count": 107,
      "metadata": {
        "colab": {
          "base_uri": "https://localhost:8080/",
          "height": 313
        },
        "id": "mnx4Yj91Ru5Z",
        "outputId": "3f6e9706-a8dd-4a76-bde3-131daccb9321"
      },
      "outputs": [
        {
          "data": {
            "text/html": [
              "<div>\n",
              "<style scoped>\n",
              "    .dataframe tbody tr th:only-of-type {\n",
              "        vertical-align: middle;\n",
              "    }\n",
              "\n",
              "    .dataframe tbody tr th {\n",
              "        vertical-align: top;\n",
              "    }\n",
              "\n",
              "    .dataframe thead th {\n",
              "        text-align: right;\n",
              "    }\n",
              "</style>\n",
              "<table border=\"1\" class=\"dataframe\">\n",
              "  <thead>\n",
              "    <tr style=\"text-align: right;\">\n",
              "      <th></th>\n",
              "      <th>id</th>\n",
              "      <th>age</th>\n",
              "      <th>gender</th>\n",
              "      <th>income</th>\n",
              "      <th>spending_score</th>\n",
              "      <th>membership_years</th>\n",
              "      <th>purchase_frequency</th>\n",
              "      <th>preferred_category</th>\n",
              "      <th>last_purchase_amount</th>\n",
              "      <th>faixa_renda</th>\n",
              "      <th>income_level</th>\n",
              "      <th>spending_qcut</th>\n",
              "      <th>spending_level</th>\n",
              "    </tr>\n",
              "  </thead>\n",
              "  <tbody>\n",
              "    <tr>\n",
              "      <th>3</th>\n",
              "      <td>nan</td>\n",
              "      <td>NaN</td>\n",
              "      <td>Other</td>\n",
              "      <td>NaN</td>\n",
              "      <td>74.0</td>\n",
              "      <td>NaN</td>\n",
              "      <td>5.0</td>\n",
              "      <td>Unknown</td>\n",
              "      <td>NaN</td>\n",
              "      <td>NaN</td>\n",
              "      <td>NaN</td>\n",
              "      <td>(70.0, 100.0]</td>\n",
              "      <td>3</td>\n",
              "    </tr>\n",
              "    <tr>\n",
              "      <th>6</th>\n",
              "      <td>nan</td>\n",
              "      <td>19.0</td>\n",
              "      <td>Unknown</td>\n",
              "      <td>54319.0</td>\n",
              "      <td>68.0</td>\n",
              "      <td>NaN</td>\n",
              "      <td>NaN</td>\n",
              "      <td>Clothing</td>\n",
              "      <td>NaN</td>\n",
              "      <td>(31153.999, 66656.0]</td>\n",
              "      <td>1.0</td>\n",
              "      <td>(36.0, 70.0]</td>\n",
              "      <td>2</td>\n",
              "    </tr>\n",
              "    <tr>\n",
              "      <th>7</th>\n",
              "      <td>8.0</td>\n",
              "      <td>NaN</td>\n",
              "      <td>Male</td>\n",
              "      <td>108115.0</td>\n",
              "      <td>94.0</td>\n",
              "      <td>9.0</td>\n",
              "      <td>27.0</td>\n",
              "      <td>Unknown</td>\n",
              "      <td>NaN</td>\n",
              "      <td>(102123.0, 561250.0]</td>\n",
              "      <td>3.0</td>\n",
              "      <td>(70.0, 100.0]</td>\n",
              "      <td>3</td>\n",
              "    </tr>\n",
              "    <tr>\n",
              "      <th>12</th>\n",
              "      <td>nan</td>\n",
              "      <td>29.0</td>\n",
              "      <td>Unknown</td>\n",
              "      <td>87461.0</td>\n",
              "      <td>81.0</td>\n",
              "      <td>3.0</td>\n",
              "      <td>27.0</td>\n",
              "      <td>Home &amp; Garden</td>\n",
              "      <td>NaN</td>\n",
              "      <td>(66656.0, 102123.0]</td>\n",
              "      <td>2.0</td>\n",
              "      <td>(70.0, 100.0]</td>\n",
              "      <td>3</td>\n",
              "    </tr>\n",
              "    <tr>\n",
              "      <th>14</th>\n",
              "      <td>nan</td>\n",
              "      <td>NaN</td>\n",
              "      <td>Unknown</td>\n",
              "      <td>NaN</td>\n",
              "      <td>17.0</td>\n",
              "      <td>NaN</td>\n",
              "      <td>NaN</td>\n",
              "      <td>Home &amp; Garden</td>\n",
              "      <td>915.89</td>\n",
              "      <td>NaN</td>\n",
              "      <td>NaN</td>\n",
              "      <td>(0.999, 36.0]</td>\n",
              "      <td>1</td>\n",
              "    </tr>\n",
              "  </tbody>\n",
              "</table>\n",
              "</div>"
            ],
            "text/plain": [
              "     id   age   gender    income  spending_score  membership_years  \\\n",
              "3   nan   NaN    Other       NaN            74.0               NaN   \n",
              "6   nan  19.0  Unknown   54319.0            68.0               NaN   \n",
              "7   8.0   NaN     Male  108115.0            94.0               9.0   \n",
              "12  nan  29.0  Unknown   87461.0            81.0               3.0   \n",
              "14  nan   NaN  Unknown       NaN            17.0               NaN   \n",
              "\n",
              "    purchase_frequency preferred_category  last_purchase_amount  \\\n",
              "3                  5.0            Unknown                   NaN   \n",
              "6                  NaN           Clothing                   NaN   \n",
              "7                 27.0            Unknown                   NaN   \n",
              "12                27.0      Home & Garden                   NaN   \n",
              "14                 NaN      Home & Garden                915.89   \n",
              "\n",
              "             faixa_renda  income_level  spending_qcut  spending_level  \n",
              "3                    NaN           NaN  (70.0, 100.0]               3  \n",
              "6   (31153.999, 66656.0]           1.0   (36.0, 70.0]               2  \n",
              "7   (102123.0, 561250.0]           3.0  (70.0, 100.0]               3  \n",
              "12   (66656.0, 102123.0]           2.0  (70.0, 100.0]               3  \n",
              "14                   NaN           NaN  (0.999, 36.0]               1  "
            ]
          },
          "execution_count": 107,
          "metadata": {},
          "output_type": "execute_result"
        }
      ],
      "source": [
        "df.head()"
      ]
    },
    {
      "cell_type": "code",
      "execution_count": 108,
      "metadata": {
        "id": "rc-WVg5ERwVO"
      },
      "outputs": [],
      "source": [
        "df['purchase_frequency_qcut'] = pd.qcut(df['purchase_frequency'], q=3, duplicates='drop')"
      ]
    },
    {
      "cell_type": "code",
      "execution_count": 110,
      "metadata": {
        "colab": {
          "base_uri": "https://localhost:8080/"
        },
        "id": "KNfmM9yeVaDO",
        "outputId": "0f0bbdcf-ba8e-4d12-f510-3048a1beb4a3"
      },
      "outputs": [
        {
          "data": {
            "text/plain": [
              "purchase_frequency_qcut\n",
              "(0.999, 16.0]    85\n",
              "(16.0, 35.0]     82\n",
              "(35.0, 50.0]     80\n",
              "Name: count, dtype: int64"
            ]
          },
          "execution_count": 110,
          "metadata": {},
          "output_type": "execute_result"
        }
      ],
      "source": [
        "df['purchase_frequency_qcut'].value_counts()"
      ]
    },
    {
      "cell_type": "code",
      "execution_count": 112,
      "metadata": {
        "id": "hHRswLTFVdId"
      },
      "outputs": [],
      "source": [
        "mapeamento_purchase = {\n",
        "    '(0.999, 16.0]':1,\n",
        "    '(16.0, 35.0]' :2,\n",
        "    '(35.0, 50.0]' :3\n",
        "}\n",
        "\n",
        "\n",
        "df['purchase_frequency_level'] = df['purchase_frequency_qcut'].astype(str).map(mapeamento_purchase)"
      ]
    },
    {
      "cell_type": "code",
      "execution_count": 114,
      "metadata": {
        "colab": {
          "base_uri": "https://localhost:8080/"
        },
        "id": "onCq8oLiV-lU",
        "outputId": "268af627-26ac-4b7c-d501-3140e88b081b"
      },
      "outputs": [
        {
          "data": {
            "text/plain": [
              "membership_years_qcut\n",
              "(0.999, 4.0]    89\n",
              "(4.0, 7.0]      72\n",
              "(7.0, 10.0]     71\n",
              "Name: count, dtype: int64"
            ]
          },
          "execution_count": 114,
          "metadata": {},
          "output_type": "execute_result"
        }
      ],
      "source": [
        "df['membership_years_qcut'] = pd.qcut(df['membership_years'], q=3, duplicates='drop')\n",
        "\n",
        "df['membership_years_qcut'].value_counts()"
      ]
    },
    {
      "cell_type": "code",
      "execution_count": 115,
      "metadata": {
        "id": "egaS2pecXq1u"
      },
      "outputs": [],
      "source": [
        "mapeamento_years = {\n",
        "'(0.999, 4.0]':1,\n",
        "'(4.0, 7.0]':2,\n",
        "'(7.0, 10.0]':3\n",
        "}\n",
        "\n",
        "\n",
        "df['membership_years_score'] = df['membership_years_qcut'].astype(str).map(mapeamento_years)"
      ]
    },
    {
      "cell_type": "code",
      "execution_count": 118,
      "metadata": {
        "colab": {
          "base_uri": "https://localhost:8080/"
        },
        "id": "2lbbkAXlYIxV",
        "outputId": "ff2ed9cb-05fb-4974-b426-3be8b7330f11"
      },
      "outputs": [
        {
          "data": {
            "text/plain": [
              "last_purchase_amount_qcut\n",
              "(326.5, 687.32]     76\n",
              "(12.449, 326.5]     75\n",
              "(687.32, 998.51]    75\n",
              "Name: count, dtype: int64"
            ]
          },
          "execution_count": 118,
          "metadata": {},
          "output_type": "execute_result"
        }
      ],
      "source": [
        "df['last_purchase_amount_qcut'] = pd.qcut(df['last_purchase_amount'], q=3, duplicates='drop')\n",
        "\n",
        "df['last_purchase_amount_qcut'].value_counts()"
      ]
    },
    {
      "cell_type": "code",
      "execution_count": 119,
      "metadata": {
        "id": "Zh6mz8TbYQD0"
      },
      "outputs": [],
      "source": [
        "mapeamento_amount = {\n",
        "'(326.5, 687.32]':1,\n",
        "'(12.449, 326.5]':2,\n",
        "'(687.32, 998.51]':3\n",
        "}\n",
        "\n",
        "\n",
        "df['last_purchase_amount_score'] = df['last_purchase_amount_qcut'].astype(str).map(mapeamento_amount)"
      ]
    },
    {
      "cell_type": "code",
      "execution_count": 121,
      "metadata": {
        "id": "4u6c0ZPzb_J_"
      },
      "outputs": [],
      "source": [
        "df['score_final'] = df['income_level'] + df['spending_level'] + df['purchase_frequency_level'] + df['membership_years_score'] + df['last_purchase_amount_score']"
      ]
    },
    {
      "cell_type": "code",
      "execution_count": 123,
      "metadata": {
        "id": "JJq8jiHZcIFd"
      },
      "outputs": [],
      "source": [
        "df['score_final_qcut'] = pd.qcut(df['score_final'], q=3, duplicates='drop')"
      ]
    },
    {
      "cell_type": "code",
      "execution_count": 124,
      "metadata": {
        "colab": {
          "base_uri": "https://localhost:8080/"
        },
        "id": "dNZ6OIMycR82",
        "outputId": "fa7474c7-8f13-457a-ad14-ac4424684092"
      },
      "outputs": [
        {
          "data": {
            "text/plain": [
              "score_final_qcut\n",
              "(6.999, 9.0]    16\n",
              "(9.0, 11.0]     15\n",
              "(11.0, 14.0]     6\n",
              "Name: count, dtype: int64"
            ]
          },
          "execution_count": 124,
          "metadata": {},
          "output_type": "execute_result"
        }
      ],
      "source": [
        "df['score_final_qcut'].value_counts()"
      ]
    },
    {
      "cell_type": "code",
      "execution_count": 125,
      "metadata": {
        "colab": {
          "base_uri": "https://localhost:8080/"
        },
        "id": "AJDPEVnvcav_",
        "outputId": "c4fb19ef-8d06-4635-a74f-758b5342f1cb"
      },
      "outputs": [
        {
          "name": "stdout",
          "output_type": "stream",
          "text": [
            "3.0\n",
            "3\n",
            "3.0\n",
            "3.0\n",
            "3.0\n"
          ]
        }
      ],
      "source": [
        "print( df['income_level'].max())\n",
        "print(df['spending_level'].max())\n",
        "print( df['purchase_frequency_level'].max())\n",
        "print(df['membership_years_score'].max())\n",
        "print(df['last_purchase_amount_score'].max())"
      ]
    },
    {
      "cell_type": "code",
      "execution_count": 82,
      "metadata": {
        "id": "GwdldshZcu9d"
      },
      "outputs": [
        {
          "name": "stderr",
          "output_type": "stream",
          "text": [
            "C:\\Users\\julio\\AppData\\Local\\Temp\\ipykernel_26964\\2609699339.py:8: SettingWithCopyWarning: \n",
            "A value is trying to be set on a copy of a slice from a DataFrame.\n",
            "Try using .loc[row_indexer,col_indexer] = value instead\n",
            "\n",
            "See the caveats in the documentation: https://pandas.pydata.org/pandas-docs/stable/user_guide/indexing.html#returning-a-view-versus-a-copy\n",
            "  df['categoria_cliente'] = df['score_final_qcut'].astype(str).map(mapeamento_score)\n"
          ]
        }
      ],
      "source": [
        "mapeamento_score = {\n",
        "    '(4.999, 6.0]': 'bronze',\n",
        "    '(6.0, 7.0]': 'prata',\n",
        "    '(7.0, 11.0]':'ouro'\n",
        "}\n",
        "\n",
        "# Converte o qcut para string e mapeia as categorias\n",
        "df['categoria_cliente'] = df['score_final_qcut'].astype(str).map(mapeamento_score)\n",
        "\n",
        "# Verifica as colunas especificadas para valores nulos\n",
        "cols_to_check = ['income', 'spending_score', 'membership_years', 'purchase_frequency', 'last_purchase_amount']\n",
        "df['categoria_cliente'] = np.where(df[cols_to_check].isnull().any(axis=1), 'sem informações', df['categoria_cliente'])\n"
      ]
    },
    {
      "cell_type": "markdown",
      "metadata": {
        "id": "Xdih4NGjkF76"
      },
      "source": [
        "# Segmentação Pronta"
      ]
    },
    {
      "cell_type": "code",
      "execution_count": 83,
      "metadata": {
        "colab": {
          "base_uri": "https://localhost:8080/",
          "height": 342
        },
        "id": "lS4xkoqqdVRW",
        "outputId": "a231d8b7-1eae-47cd-9d59-73df09bf53e7"
      },
      "outputs": [
        {
          "data": {
            "text/html": [
              "<div>\n",
              "<style scoped>\n",
              "    .dataframe tbody tr th:only-of-type {\n",
              "        vertical-align: middle;\n",
              "    }\n",
              "\n",
              "    .dataframe tbody tr th {\n",
              "        vertical-align: top;\n",
              "    }\n",
              "\n",
              "    .dataframe thead th {\n",
              "        text-align: right;\n",
              "    }\n",
              "</style>\n",
              "<table border=\"1\" class=\"dataframe\">\n",
              "  <thead>\n",
              "    <tr style=\"text-align: right;\">\n",
              "      <th></th>\n",
              "      <th>age</th>\n",
              "      <th>gender</th>\n",
              "      <th>income</th>\n",
              "      <th>spending_score</th>\n",
              "      <th>membership_years</th>\n",
              "      <th>purchase_frequency</th>\n",
              "      <th>preferred_category</th>\n",
              "      <th>last_purchase_amount</th>\n",
              "      <th>income_qcut</th>\n",
              "      <th>income_level</th>\n",
              "      <th>...</th>\n",
              "      <th>spending_level</th>\n",
              "      <th>purchase_frequency_qcut</th>\n",
              "      <th>purchase_frequency_level</th>\n",
              "      <th>membership_years_qcut</th>\n",
              "      <th>membership_years_score</th>\n",
              "      <th>last_purchase_amount_qcut</th>\n",
              "      <th>last_purchase_amount_score</th>\n",
              "      <th>score_final</th>\n",
              "      <th>score_final_qcut</th>\n",
              "      <th>categoria_cliente</th>\n",
              "    </tr>\n",
              "  </thead>\n",
              "  <tbody>\n",
              "    <tr>\n",
              "      <th>0</th>\n",
              "      <td>43</td>\n",
              "      <td>Unknown</td>\n",
              "      <td>99342</td>\n",
              "      <td>52.494624</td>\n",
              "      <td>5.528926</td>\n",
              "      <td>26.019417</td>\n",
              "      <td>Unknown</td>\n",
              "      <td>502.134547</td>\n",
              "      <td>(98201.0, 1479620.0]</td>\n",
              "      <td>3</td>\n",
              "      <td>...</td>\n",
              "      <td>1</td>\n",
              "      <td>(0.999, 26.019]</td>\n",
              "      <td>1</td>\n",
              "      <td>(0.999, 5.529]</td>\n",
              "      <td>1</td>\n",
              "      <td>(10.399000000000001, 502.135]</td>\n",
              "      <td>1</td>\n",
              "      <td>7</td>\n",
              "      <td>(6.0, 7.0]</td>\n",
              "      <td>prata</td>\n",
              "    </tr>\n",
              "    <tr>\n",
              "      <th>1</th>\n",
              "      <td>43</td>\n",
              "      <td>Female</td>\n",
              "      <td>78852</td>\n",
              "      <td>52.494624</td>\n",
              "      <td>2.000000</td>\n",
              "      <td>42.000000</td>\n",
              "      <td>Sports</td>\n",
              "      <td>41.930000</td>\n",
              "      <td>(30057.999, 86922.5]</td>\n",
              "      <td>1</td>\n",
              "      <td>...</td>\n",
              "      <td>1</td>\n",
              "      <td>(26.019, 50.0]</td>\n",
              "      <td>2</td>\n",
              "      <td>(0.999, 5.529]</td>\n",
              "      <td>1</td>\n",
              "      <td>(10.399000000000001, 502.135]</td>\n",
              "      <td>1</td>\n",
              "      <td>6</td>\n",
              "      <td>(4.999, 6.0]</td>\n",
              "      <td>bronze</td>\n",
              "    </tr>\n",
              "    <tr>\n",
              "      <th>2</th>\n",
              "      <td>43</td>\n",
              "      <td>Female</td>\n",
              "      <td>98201</td>\n",
              "      <td>52.494624</td>\n",
              "      <td>2.000000</td>\n",
              "      <td>28.000000</td>\n",
              "      <td>Unknown</td>\n",
              "      <td>502.134547</td>\n",
              "      <td>(86922.5, 98201.0]</td>\n",
              "      <td>2</td>\n",
              "      <td>...</td>\n",
              "      <td>1</td>\n",
              "      <td>(26.019, 50.0]</td>\n",
              "      <td>2</td>\n",
              "      <td>(0.999, 5.529]</td>\n",
              "      <td>1</td>\n",
              "      <td>(10.399000000000001, 502.135]</td>\n",
              "      <td>1</td>\n",
              "      <td>7</td>\n",
              "      <td>(6.0, 7.0]</td>\n",
              "      <td>prata</td>\n",
              "    </tr>\n",
              "    <tr>\n",
              "      <th>3</th>\n",
              "      <td>43</td>\n",
              "      <td>Other</td>\n",
              "      <td>98201</td>\n",
              "      <td>74.000000</td>\n",
              "      <td>5.528926</td>\n",
              "      <td>5.000000</td>\n",
              "      <td>Unknown</td>\n",
              "      <td>502.134547</td>\n",
              "      <td>(86922.5, 98201.0]</td>\n",
              "      <td>2</td>\n",
              "      <td>...</td>\n",
              "      <td>2</td>\n",
              "      <td>(0.999, 26.019]</td>\n",
              "      <td>1</td>\n",
              "      <td>(0.999, 5.529]</td>\n",
              "      <td>1</td>\n",
              "      <td>(10.399000000000001, 502.135]</td>\n",
              "      <td>1</td>\n",
              "      <td>7</td>\n",
              "      <td>(6.0, 7.0]</td>\n",
              "      <td>prata</td>\n",
              "    </tr>\n",
              "    <tr>\n",
              "      <th>5</th>\n",
              "      <td>43</td>\n",
              "      <td>Unknown</td>\n",
              "      <td>57305</td>\n",
              "      <td>52.494624</td>\n",
              "      <td>3.000000</td>\n",
              "      <td>26.019417</td>\n",
              "      <td>Unknown</td>\n",
              "      <td>502.134547</td>\n",
              "      <td>(30057.999, 86922.5]</td>\n",
              "      <td>1</td>\n",
              "      <td>...</td>\n",
              "      <td>1</td>\n",
              "      <td>(0.999, 26.019]</td>\n",
              "      <td>1</td>\n",
              "      <td>(0.999, 5.529]</td>\n",
              "      <td>1</td>\n",
              "      <td>(10.399000000000001, 502.135]</td>\n",
              "      <td>1</td>\n",
              "      <td>5</td>\n",
              "      <td>(4.999, 6.0]</td>\n",
              "      <td>bronze</td>\n",
              "    </tr>\n",
              "  </tbody>\n",
              "</table>\n",
              "<p>5 rows × 21 columns</p>\n",
              "</div>"
            ],
            "text/plain": [
              "   age   gender  income  spending_score  membership_years  purchase_frequency  \\\n",
              "0   43  Unknown   99342       52.494624          5.528926           26.019417   \n",
              "1   43   Female   78852       52.494624          2.000000           42.000000   \n",
              "2   43   Female   98201       52.494624          2.000000           28.000000   \n",
              "3   43    Other   98201       74.000000          5.528926            5.000000   \n",
              "5   43  Unknown   57305       52.494624          3.000000           26.019417   \n",
              "\n",
              "  preferred_category  last_purchase_amount           income_qcut  \\\n",
              "0            Unknown            502.134547  (98201.0, 1479620.0]   \n",
              "1             Sports             41.930000  (30057.999, 86922.5]   \n",
              "2            Unknown            502.134547    (86922.5, 98201.0]   \n",
              "3            Unknown            502.134547    (86922.5, 98201.0]   \n",
              "5            Unknown            502.134547  (30057.999, 86922.5]   \n",
              "\n",
              "   income_level  ... spending_level  purchase_frequency_qcut  \\\n",
              "0             3  ...              1          (0.999, 26.019]   \n",
              "1             1  ...              1           (26.019, 50.0]   \n",
              "2             2  ...              1           (26.019, 50.0]   \n",
              "3             2  ...              2          (0.999, 26.019]   \n",
              "5             1  ...              1          (0.999, 26.019]   \n",
              "\n",
              "  purchase_frequency_level  membership_years_qcut membership_years_score  \\\n",
              "0                        1         (0.999, 5.529]                      1   \n",
              "1                        2         (0.999, 5.529]                      1   \n",
              "2                        2         (0.999, 5.529]                      1   \n",
              "3                        1         (0.999, 5.529]                      1   \n",
              "5                        1         (0.999, 5.529]                      1   \n",
              "\n",
              "       last_purchase_amount_qcut last_purchase_amount_score  score_final  \\\n",
              "0  (10.399000000000001, 502.135]                          1            7   \n",
              "1  (10.399000000000001, 502.135]                          1            6   \n",
              "2  (10.399000000000001, 502.135]                          1            7   \n",
              "3  (10.399000000000001, 502.135]                          1            7   \n",
              "5  (10.399000000000001, 502.135]                          1            5   \n",
              "\n",
              "   score_final_qcut categoria_cliente  \n",
              "0        (6.0, 7.0]             prata  \n",
              "1      (4.999, 6.0]            bronze  \n",
              "2        (6.0, 7.0]             prata  \n",
              "3        (6.0, 7.0]             prata  \n",
              "5      (4.999, 6.0]            bronze  \n",
              "\n",
              "[5 rows x 21 columns]"
            ]
          },
          "execution_count": 83,
          "metadata": {},
          "output_type": "execute_result"
        }
      ],
      "source": [
        "df.head()"
      ]
    },
    {
      "cell_type": "code",
      "execution_count": 84,
      "metadata": {
        "colab": {
          "base_uri": "https://localhost:8080/",
          "height": 472
        },
        "id": "D-jl4f60daCl",
        "outputId": "85165497-ce37-458c-8db4-81e0b5bb7686"
      },
      "outputs": [
        {
          "data": {
            "image/png": "[encoded data removed]",
            "text/plain": [
              "<Figure size 640x480 with 1 Axes>"
            ]
          },
          "metadata": {},
          "output_type": "display_data"
        }
      ],
      "source": [
        "contagem_categorias = df['categoria_cliente'].value_counts()\n",
        "\n",
        "# Criando o gráfico de barras\n",
        "plt.bar(contagem_categorias.index, contagem_categorias.values)\n",
        "\n",
        "# Configurando o título e os rótulos dos eixos\n",
        "plt.title('Distribuição de Clientes por Categoria de Score')\n",
        "plt.xlabel('Categoria do Cliente')\n",
        "plt.ylabel('Número de Clientes')\n",
        "\n",
        "# Exibindo o gráfico\n",
        "plt.show()"
      ]
    },
    {
      "cell_type": "code",
      "execution_count": null,
      "metadata": {
        "id": "o96MeVG1hDM1"
      },
      "outputs": [],
      "source": []
    },
    {
      "cell_type": "code",
      "execution_count": null,
      "metadata": {
        "id": "iRzXTLIsiNQO"
      },
      "outputs": [],
      "source": []
    }
  ],
  "metadata": {
    "colab": {
      "provenance": []
    },
    "kernelspec": {
      "display_name": "Python 3",
      "name": "python3"
    },
    "language_info": {
      "codemirror_mode": {
        "name": "ipython",
        "version": 3
      },
      "file_extension": ".py",
      "mimetype": "text/x-python",
      "name": "python",
      "nbconvert_exporter": "python",
      "pygments_lexer": "ipython3",
      "version": "3.12.1"
    }
  },
  "nbformat": 4,
  "nbformat_minor": 0
}
