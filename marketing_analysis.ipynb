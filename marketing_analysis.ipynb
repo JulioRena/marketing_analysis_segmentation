{
  "cells": [
    {
      "cell_type": "code",
      "execution_count": 68,
      "metadata": {
        "id": "3zyfF5XHlbS5"
      },
      "outputs": [],
      "source": [
        "import pandas as pd\n",
        "import matplotlib.pyplot as plt\n",
        "import seaborn as sns"
      ]
    },
    {
      "cell_type": "code",
      "execution_count": 69,
      "metadata": {
        "id": "X-Ao-rIHljcT"
      },
      "outputs": [],
      "source": [
        "df = pd.read_csv('customer_data_2.csv')"
      ]
    },
    {
      "cell_type": "markdown",
      "metadata": {
        "id": "lwWwINPLjbx9"
      },
      "source": [
        "### EDA"
      ]
    },
    {
      "cell_type": "code",
      "execution_count": 70,
      "metadata": {},
      "outputs": [
        {
          "name": "stdout",
          "output_type": "stream",
          "text": [
            "Número de linhas onde todas as variáveis são vazias ou nulas: 0\n",
            "Número de linhas onde pelo menos uma variável é vazia ou nula: 235\n"
          ]
        }
      ],
      "source": [
        "\n",
        "variaveis_seg = df[['income','spending_score','membership_years','purchase_frequency','last_purchase_amount']]\n",
        "\n",
        "num_all_null_rows = variaveis_seg.isnull().all(axis=1).sum()\n",
        "\n",
        "print(\"Número de linhas onde todas as variáveis são vazias ou nulas:\", num_all_null_rows)\n",
        "\n",
        "num_any_null_rows = variaveis_seg.isnull().any(axis=1).sum()\n",
        "print(\"Número de linhas onde pelo menos uma variável é vazia ou nula:\", num_any_null_rows)\n",
        "\n"
      ]
    },
    {
      "cell_type": "code",
      "execution_count": 71,
      "metadata": {
        "colab": {
          "base_uri": "https://localhost:8080/"
        },
        "id": "2cFhm-46lnNi",
        "outputId": "7ce8a99d-c3ee-4933-f248-ac5e9ea83ef1"
      },
      "outputs": [
        {
          "name": "stdout",
          "output_type": "stream",
          "text": [
            "<class 'pandas.core.frame.DataFrame'>\n",
            "RangeIndex: 1000 entries, 0 to 999\n",
            "Data columns (total 9 columns):\n",
            " #   Column                Non-Null Count  Dtype  \n",
            "---  ------                --------------  -----  \n",
            " 0   id                    950 non-null    float64\n",
            " 1   age                   951 non-null    float64\n",
            " 2   gender                945 non-null    object \n",
            " 3   income                944 non-null    float64\n",
            " 4   spending_score        951 non-null    float64\n",
            " 5   membership_years      950 non-null    float64\n",
            " 6   purchase_frequency    955 non-null    float64\n",
            " 7   preferred_category    939 non-null    object \n",
            " 8   last_purchase_amount  945 non-null    float64\n",
            "dtypes: float64(7), object(2)\n",
            "memory usage: 70.4+ KB\n",
            "(1000, 9)\n"
          ]
        }
      ],
      "source": [
        "df.info()\n",
        "print(df.shape)"
      ]
    },
    {
      "cell_type": "code",
      "execution_count": 72,
      "metadata": {
        "colab": {
          "base_uri": "https://localhost:8080/",
          "height": 226
        },
        "id": "gNrpltaGlqTo",
        "outputId": "38a10ec9-829a-41f8-a93d-77db4dba6485"
      },
      "outputs": [
        {
          "data": {
            "text/html": [
              "<div>\n",
              "<style scoped>\n",
              "    .dataframe tbody tr th:only-of-type {\n",
              "        vertical-align: middle;\n",
              "    }\n",
              "\n",
              "    .dataframe tbody tr th {\n",
              "        vertical-align: top;\n",
              "    }\n",
              "\n",
              "    .dataframe thead th {\n",
              "        text-align: right;\n",
              "    }\n",
              "</style>\n",
              "<table border=\"1\" class=\"dataframe\">\n",
              "  <thead>\n",
              "    <tr style=\"text-align: right;\">\n",
              "      <th></th>\n",
              "      <th>id</th>\n",
              "      <th>age</th>\n",
              "      <th>gender</th>\n",
              "      <th>income</th>\n",
              "      <th>spending_score</th>\n",
              "      <th>membership_years</th>\n",
              "      <th>purchase_frequency</th>\n",
              "      <th>preferred_category</th>\n",
              "      <th>last_purchase_amount</th>\n",
              "    </tr>\n",
              "  </thead>\n",
              "  <tbody>\n",
              "    <tr>\n",
              "      <th>0</th>\n",
              "      <td>1.0</td>\n",
              "      <td>38.0</td>\n",
              "      <td>Female</td>\n",
              "      <td>99342.0</td>\n",
              "      <td>90.0</td>\n",
              "      <td>3.0</td>\n",
              "      <td>24.0</td>\n",
              "      <td>Groceries</td>\n",
              "      <td>113.53</td>\n",
              "    </tr>\n",
              "    <tr>\n",
              "      <th>1</th>\n",
              "      <td>2.0</td>\n",
              "      <td>21.0</td>\n",
              "      <td>Female</td>\n",
              "      <td>78852.0</td>\n",
              "      <td>60.0</td>\n",
              "      <td>2.0</td>\n",
              "      <td>42.0</td>\n",
              "      <td>NaN</td>\n",
              "      <td>41.93</td>\n",
              "    </tr>\n",
              "    <tr>\n",
              "      <th>2</th>\n",
              "      <td>3.0</td>\n",
              "      <td>60.0</td>\n",
              "      <td>Female</td>\n",
              "      <td>126573.0</td>\n",
              "      <td>30.0</td>\n",
              "      <td>2.0</td>\n",
              "      <td>28.0</td>\n",
              "      <td>Clothing</td>\n",
              "      <td>424.36</td>\n",
              "    </tr>\n",
              "    <tr>\n",
              "      <th>3</th>\n",
              "      <td>4.0</td>\n",
              "      <td>40.0</td>\n",
              "      <td>Other</td>\n",
              "      <td>47099.0</td>\n",
              "      <td>74.0</td>\n",
              "      <td>9.0</td>\n",
              "      <td>5.0</td>\n",
              "      <td>NaN</td>\n",
              "      <td>991.93</td>\n",
              "    </tr>\n",
              "    <tr>\n",
              "      <th>4</th>\n",
              "      <td>5.0</td>\n",
              "      <td>65.0</td>\n",
              "      <td>Female</td>\n",
              "      <td>140621.0</td>\n",
              "      <td>21.0</td>\n",
              "      <td>3.0</td>\n",
              "      <td>25.0</td>\n",
              "      <td>Electronics</td>\n",
              "      <td>347.08</td>\n",
              "    </tr>\n",
              "  </tbody>\n",
              "</table>\n",
              "</div>"
            ],
            "text/plain": [
              "    id   age  gender    income  spending_score  membership_years  \\\n",
              "0  1.0  38.0  Female   99342.0            90.0               3.0   \n",
              "1  2.0  21.0  Female   78852.0            60.0               2.0   \n",
              "2  3.0  60.0  Female  126573.0            30.0               2.0   \n",
              "3  4.0  40.0   Other   47099.0            74.0               9.0   \n",
              "4  5.0  65.0  Female  140621.0            21.0               3.0   \n",
              "\n",
              "   purchase_frequency preferred_category  last_purchase_amount  \n",
              "0                24.0          Groceries                113.53  \n",
              "1                42.0                NaN                 41.93  \n",
              "2                28.0           Clothing                424.36  \n",
              "3                 5.0                NaN                991.93  \n",
              "4                25.0        Electronics                347.08  "
            ]
          },
          "execution_count": 72,
          "metadata": {},
          "output_type": "execute_result"
        }
      ],
      "source": [
        "df.head()"
      ]
    },
    {
      "cell_type": "code",
      "execution_count": 73,
      "metadata": {
        "colab": {
          "base_uri": "https://localhost:8080/"
        },
        "id": "JvgeB5j4mBBx",
        "outputId": "217ae574-d2ac-4298-ae49-9bd3b288346e"
      },
      "outputs": [
        {
          "data": {
            "text/plain": [
              "preferred_category\n",
              "Sports           200\n",
              "Electronics      196\n",
              "Home & Garden    192\n",
              "Groceries        189\n",
              "Clothing         158\n",
              "Elec               4\n",
              "Name: count, dtype: int64"
            ]
          },
          "execution_count": 73,
          "metadata": {},
          "output_type": "execute_result"
        }
      ],
      "source": [
        "df['preferred_category'].value_counts()"
      ]
    },
    {
      "cell_type": "code",
      "execution_count": 74,
      "metadata": {
        "id": "SAyRDN3PmFMZ"
      },
      "outputs": [],
      "source": [
        "df['id'] = df['id'].astype(str)\n"
      ]
    },
    {
      "cell_type": "code",
      "execution_count": null,
      "metadata": {
        "id": "r1OsYIvdoNYy"
      },
      "outputs": [],
      "source": []
    },
    {
      "cell_type": "code",
      "execution_count": 75,
      "metadata": {
        "colab": {
          "base_uri": "https://localhost:8080/"
        },
        "id": "ghrOiXyFopoi",
        "outputId": "2ddd044c-9f9e-4b0a-84f9-e50a07ff19d1"
      },
      "outputs": [
        {
          "name": "stdout",
          "output_type": "stream",
          "text": [
            "<class 'pandas.core.frame.DataFrame'>\n",
            "RangeIndex: 1000 entries, 0 to 999\n",
            "Data columns (total 9 columns):\n",
            " #   Column                Non-Null Count  Dtype  \n",
            "---  ------                --------------  -----  \n",
            " 0   id                    1000 non-null   object \n",
            " 1   age                   951 non-null    float64\n",
            " 2   gender                945 non-null    object \n",
            " 3   income                944 non-null    float64\n",
            " 4   spending_score        951 non-null    float64\n",
            " 5   membership_years      950 non-null    float64\n",
            " 6   purchase_frequency    955 non-null    float64\n",
            " 7   preferred_category    939 non-null    object \n",
            " 8   last_purchase_amount  945 non-null    float64\n",
            "dtypes: float64(6), object(3)\n",
            "memory usage: 70.4+ KB\n"
          ]
        }
      ],
      "source": [
        "df.info()"
      ]
    },
    {
      "cell_type": "code",
      "execution_count": 76,
      "metadata": {
        "colab": {
          "base_uri": "https://localhost:8080/"
        },
        "id": "bwNpotQSoqkr",
        "outputId": "159e0974-c946-46cf-8d8b-23e0aa09e4d0"
      },
      "outputs": [
        {
          "data": {
            "text/plain": [
              "np.int64(49)"
            ]
          },
          "execution_count": 76,
          "metadata": {},
          "output_type": "execute_result"
        }
      ],
      "source": [
        "df['age'].isnull().sum()"
      ]
    },
    {
      "cell_type": "code",
      "execution_count": 77,
      "metadata": {
        "colab": {
          "base_uri": "https://localhost:8080/",
          "height": 300
        },
        "id": "WOiiWnpkp0Rs",
        "outputId": "dcaff035-b388-437e-ecca-0e0dba346637"
      },
      "outputs": [
        {
          "data": {
            "text/html": [
              "<div>\n",
              "<style scoped>\n",
              "    .dataframe tbody tr th:only-of-type {\n",
              "        vertical-align: middle;\n",
              "    }\n",
              "\n",
              "    .dataframe tbody tr th {\n",
              "        vertical-align: top;\n",
              "    }\n",
              "\n",
              "    .dataframe thead th {\n",
              "        text-align: right;\n",
              "    }\n",
              "</style>\n",
              "<table border=\"1\" class=\"dataframe\">\n",
              "  <thead>\n",
              "    <tr style=\"text-align: right;\">\n",
              "      <th></th>\n",
              "      <th>age</th>\n",
              "      <th>income</th>\n",
              "      <th>spending_score</th>\n",
              "      <th>membership_years</th>\n",
              "      <th>purchase_frequency</th>\n",
              "      <th>last_purchase_amount</th>\n",
              "    </tr>\n",
              "  </thead>\n",
              "  <tbody>\n",
              "    <tr>\n",
              "      <th>count</th>\n",
              "      <td>951.000000</td>\n",
              "      <td>9.440000e+02</td>\n",
              "      <td>951.000000</td>\n",
              "      <td>950.000000</td>\n",
              "      <td>955.000000</td>\n",
              "      <td>945.000000</td>\n",
              "    </tr>\n",
              "    <tr>\n",
              "      <th>mean</th>\n",
              "      <td>43.915878</td>\n",
              "      <td>9.805376e+04</td>\n",
              "      <td>54.931651</td>\n",
              "      <td>5.460000</td>\n",
              "      <td>26.514136</td>\n",
              "      <td>492.320042</td>\n",
              "    </tr>\n",
              "    <tr>\n",
              "      <th>std</th>\n",
              "      <td>14.994289</td>\n",
              "      <td>9.887927e+04</td>\n",
              "      <td>54.227014</td>\n",
              "      <td>2.863229</td>\n",
              "      <td>14.223160</td>\n",
              "      <td>294.994270</td>\n",
              "    </tr>\n",
              "    <tr>\n",
              "      <th>min</th>\n",
              "      <td>18.000000</td>\n",
              "      <td>3.000400e+04</td>\n",
              "      <td>1.000000</td>\n",
              "      <td>1.000000</td>\n",
              "      <td>1.000000</td>\n",
              "      <td>10.400000</td>\n",
              "    </tr>\n",
              "    <tr>\n",
              "      <th>25%</th>\n",
              "      <td>30.000000</td>\n",
              "      <td>5.866500e+04</td>\n",
              "      <td>27.000000</td>\n",
              "      <td>3.000000</td>\n",
              "      <td>15.000000</td>\n",
              "      <td>218.770000</td>\n",
              "    </tr>\n",
              "    <tr>\n",
              "      <th>50%</th>\n",
              "      <td>45.000000</td>\n",
              "      <td>8.808850e+04</td>\n",
              "      <td>52.000000</td>\n",
              "      <td>5.000000</td>\n",
              "      <td>27.000000</td>\n",
              "      <td>491.640000</td>\n",
              "    </tr>\n",
              "    <tr>\n",
              "      <th>75%</th>\n",
              "      <td>57.000000</td>\n",
              "      <td>1.177122e+05</td>\n",
              "      <td>77.000000</td>\n",
              "      <td>8.000000</td>\n",
              "      <td>39.000000</td>\n",
              "      <td>746.740000</td>\n",
              "    </tr>\n",
              "    <tr>\n",
              "      <th>max</th>\n",
              "      <td>69.000000</td>\n",
              "      <td>1.329680e+06</td>\n",
              "      <td>840.000000</td>\n",
              "      <td>10.000000</td>\n",
              "      <td>50.000000</td>\n",
              "      <td>998.980000</td>\n",
              "    </tr>\n",
              "  </tbody>\n",
              "</table>\n",
              "</div>"
            ],
            "text/plain": [
              "              age        income  spending_score  membership_years  \\\n",
              "count  951.000000  9.440000e+02      951.000000        950.000000   \n",
              "mean    43.915878  9.805376e+04       54.931651          5.460000   \n",
              "std     14.994289  9.887927e+04       54.227014          2.863229   \n",
              "min     18.000000  3.000400e+04        1.000000          1.000000   \n",
              "25%     30.000000  5.866500e+04       27.000000          3.000000   \n",
              "50%     45.000000  8.808850e+04       52.000000          5.000000   \n",
              "75%     57.000000  1.177122e+05       77.000000          8.000000   \n",
              "max     69.000000  1.329680e+06      840.000000         10.000000   \n",
              "\n",
              "       purchase_frequency  last_purchase_amount  \n",
              "count          955.000000            945.000000  \n",
              "mean            26.514136            492.320042  \n",
              "std             14.223160            294.994270  \n",
              "min              1.000000             10.400000  \n",
              "25%             15.000000            218.770000  \n",
              "50%             27.000000            491.640000  \n",
              "75%             39.000000            746.740000  \n",
              "max             50.000000            998.980000  "
            ]
          },
          "execution_count": 77,
          "metadata": {},
          "output_type": "execute_result"
        }
      ],
      "source": [
        "df.describe()"
      ]
    },
    {
      "cell_type": "markdown",
      "metadata": {
        "id": "SK37JFVnjgMY"
      },
      "source": [
        "##Tratamento valores nulos"
      ]
    },
    {
      "cell_type": "code",
      "execution_count": 78,
      "metadata": {
        "id": "mB-ZCP9WqWYM"
      },
      "outputs": [],
      "source": [
        "def tratar_nulos_media(df, colunas):\n",
        "    for i in colunas:\n",
        "        df[i] = df[i].fillna(df[i].mean())\n",
        "    # df['income'] = df['income'].fillna(df['income'].mean())\n",
        "    # df['spending_score'] = df['spending_score'].fillna(df['spending_score'].mean())\n",
        "    # df['membership_years'] = df['membership_years'].fillna(df['membership_years'].mean())\n",
        "    # df['purchase_frequency'] = df['purchase_frequency'].fillna(df['purchase_frequency'].mean())\n",
        "    # df['last_purchase_amount'] = df['last_purchase_amount'].fillna(df['last_purchase_amount'].mean())"
      ]
    },
    {
      "cell_type": "code",
      "execution_count": 79,
      "metadata": {},
      "outputs": [],
      "source": [
        "tratar_nulos_media(df=df, colunas=['income','spending_score','membership_years','purchase_frequency','last_purchase_amount','age'])"
      ]
    },
    {
      "cell_type": "code",
      "execution_count": 80,
      "metadata": {
        "colab": {
          "base_uri": "https://localhost:8080/"
        },
        "id": "rEuwEd5CrQq9",
        "outputId": "171db45e-93ca-4689-9342-1f4af46b39eb"
      },
      "outputs": [
        {
          "name": "stdout",
          "output_type": "stream",
          "text": [
            "<class 'pandas.core.frame.DataFrame'>\n",
            "RangeIndex: 1000 entries, 0 to 999\n",
            "Data columns (total 9 columns):\n",
            " #   Column                Non-Null Count  Dtype  \n",
            "---  ------                --------------  -----  \n",
            " 0   id                    1000 non-null   object \n",
            " 1   age                   1000 non-null   float64\n",
            " 2   gender                945 non-null    object \n",
            " 3   income                1000 non-null   float64\n",
            " 4   spending_score        1000 non-null   float64\n",
            " 5   membership_years      1000 non-null   float64\n",
            " 6   purchase_frequency    1000 non-null   float64\n",
            " 7   preferred_category    939 non-null    object \n",
            " 8   last_purchase_amount  1000 non-null   float64\n",
            "dtypes: float64(6), object(3)\n",
            "memory usage: 70.4+ KB\n"
          ]
        }
      ],
      "source": [
        "df.info()"
      ]
    },
    {
      "cell_type": "code",
      "execution_count": 81,
      "metadata": {
        "colab": {
          "base_uri": "https://localhost:8080/"
        },
        "id": "NLidpSHKsz7e",
        "outputId": "ea29f8a9-bbac-443d-af17-f15f13343dbc"
      },
      "outputs": [
        {
          "data": {
            "text/plain": [
              "gender\n",
              "Male      332\n",
              "Other     306\n",
              "Female    294\n",
              "M           4\n",
              "F           4\n",
              "male        3\n",
              "female      2\n",
              "Name: count, dtype: int64"
            ]
          },
          "execution_count": 81,
          "metadata": {},
          "output_type": "execute_result"
        }
      ],
      "source": [
        "df['gender'].value_counts()"
      ]
    },
    {
      "cell_type": "markdown",
      "metadata": {
        "id": "MZYlcPxWjnlM"
      },
      "source": [
        "## Transformando valores categoricos"
      ]
    },
    {
      "cell_type": "code",
      "execution_count": 82,
      "metadata": {
        "id": "BYtAyb46tCnO"
      },
      "outputs": [],
      "source": [
        "female = ['female', 'F']\n",
        "male = ['male', 'M', 'M ']\n",
        "\n",
        "def padronizar_cat(df, coluna, lista_valores, valor):\n",
        "    for i in lista_valores:\n",
        "        df[coluna] = df[coluna].replace(i, valor)\n",
        "        return df[coluna].value_counts()\n",
        "\n",
        "\n",
        "df['gender'] = df['gender'].replace('female', 'Female')\n",
        "df['gender'] = df['gender'].replace('F', 'Female')\n",
        "df['gender'] = df['gender'].replace('M', 'Male')\n",
        "df['gender'] = df['gender'].replace('male', 'Male')"
      ]
    },
    {
      "cell_type": "code",
      "execution_count": 83,
      "metadata": {},
      "outputs": [
        {
          "data": {
            "text/plain": [
              "gender\n",
              "Male      339\n",
              "Other     306\n",
              "Female    300\n",
              "Name: count, dtype: int64"
            ]
          },
          "execution_count": 83,
          "metadata": {},
          "output_type": "execute_result"
        }
      ],
      "source": [
        "padronizar_cat(df, 'gender', female, 'Female')"
      ]
    },
    {
      "cell_type": "code",
      "execution_count": 84,
      "metadata": {},
      "outputs": [
        {
          "data": {
            "text/plain": [
              "gender\n",
              "Male      339\n",
              "Other     306\n",
              "Female    300\n",
              "Name: count, dtype: int64"
            ]
          },
          "execution_count": 84,
          "metadata": {},
          "output_type": "execute_result"
        }
      ],
      "source": [
        "padronizar_cat(df,'gender', male, 'Male')"
      ]
    },
    {
      "cell_type": "code",
      "execution_count": 85,
      "metadata": {
        "colab": {
          "base_uri": "https://localhost:8080/"
        },
        "id": "M6WBo5e1uW-X",
        "outputId": "043266e9-0440-470f-e693-86d16c82cef6"
      },
      "outputs": [
        {
          "data": {
            "text/plain": [
              "preferred_category\n",
              "Sports           200\n",
              "Electronics      196\n",
              "Home & Garden    192\n",
              "Groceries        189\n",
              "Clothing         158\n",
              "Elec               4\n",
              "Name: count, dtype: int64"
            ]
          },
          "execution_count": 85,
          "metadata": {},
          "output_type": "execute_result"
        }
      ],
      "source": [
        "df['preferred_category'].value_counts()"
      ]
    },
    {
      "cell_type": "code",
      "execution_count": 86,
      "metadata": {
        "id": "oerpjqFmuW68"
      },
      "outputs": [],
      "source": [
        "df['gender'] = df['gender'].fillna('Unknown')"
      ]
    },
    {
      "cell_type": "code",
      "execution_count": 87,
      "metadata": {
        "id": "Rji0dEgB3XUQ"
      },
      "outputs": [],
      "source": [
        "df['preferred_category'] = df['preferred_category'].fillna('Unknown')"
      ]
    },
    {
      "cell_type": "code",
      "execution_count": 88,
      "metadata": {
        "colab": {
          "base_uri": "https://localhost:8080/"
        },
        "id": "3xkjdifl3fc0",
        "outputId": "26a3c0c7-0dc4-43c0-fdf5-1cec79170640"
      },
      "outputs": [
        {
          "data": {
            "text/plain": [
              "preferred_category\n",
              "Sports           0.200\n",
              "Electronics      0.196\n",
              "Home & Garden    0.192\n",
              "Groceries        0.189\n",
              "Clothing         0.158\n",
              "Unknown          0.061\n",
              "Elec             0.004\n",
              "Name: proportion, dtype: float64"
            ]
          },
          "execution_count": 88,
          "metadata": {},
          "output_type": "execute_result"
        }
      ],
      "source": [
        "df['preferred_category'].value_counts(normalize=True)"
      ]
    },
    {
      "cell_type": "code",
      "execution_count": 89,
      "metadata": {
        "colab": {
          "base_uri": "https://localhost:8080/"
        },
        "id": "EsiGL3qG35TM",
        "outputId": "3987bedf-75ad-424e-d264-595ceebeb263"
      },
      "outputs": [
        {
          "data": {
            "text/plain": [
              "gender\n",
              "Male       0.339\n",
              "Other      0.306\n",
              "Female     0.300\n",
              "Unknown    0.055\n",
              "Name: proportion, dtype: float64"
            ]
          },
          "execution_count": 89,
          "metadata": {},
          "output_type": "execute_result"
        }
      ],
      "source": [
        "df['gender'].value_counts(normalize=True)"
      ]
    },
    {
      "cell_type": "code",
      "execution_count": 90,
      "metadata": {
        "colab": {
          "base_uri": "https://localhost:8080/"
        },
        "id": "rAacXHXOsqoE",
        "outputId": "36be63b9-dd5b-4924-b4ab-fdcf3ddefd7a"
      },
      "outputs": [
        {
          "name": "stdout",
          "output_type": "stream",
          "text": [
            "<class 'pandas.core.frame.DataFrame'>\n",
            "RangeIndex: 1000 entries, 0 to 999\n",
            "Data columns (total 9 columns):\n",
            " #   Column                Non-Null Count  Dtype  \n",
            "---  ------                --------------  -----  \n",
            " 0   id                    1000 non-null   object \n",
            " 1   age                   1000 non-null   float64\n",
            " 2   gender                1000 non-null   object \n",
            " 3   income                1000 non-null   float64\n",
            " 4   spending_score        1000 non-null   float64\n",
            " 5   membership_years      1000 non-null   float64\n",
            " 6   purchase_frequency    1000 non-null   float64\n",
            " 7   preferred_category    1000 non-null   object \n",
            " 8   last_purchase_amount  1000 non-null   float64\n",
            "dtypes: float64(6), object(3)\n",
            "memory usage: 70.4+ KB\n"
          ]
        }
      ],
      "source": [
        "df.info()"
      ]
    },
    {
      "cell_type": "markdown",
      "metadata": {
        "id": "PIe88tUBjvNu"
      },
      "source": [
        "## Transformando tipo das variáveis"
      ]
    },
    {
      "cell_type": "code",
      "execution_count": 91,
      "metadata": {},
      "outputs": [],
      "source": [
        "df['age'] = df['age'].round()"
      ]
    },
    {
      "cell_type": "code",
      "execution_count": null,
      "metadata": {},
      "outputs": [],
      "source": []
    },
    {
      "cell_type": "code",
      "execution_count": 92,
      "metadata": {
        "id": "s02GYXiH4DNq"
      },
      "outputs": [],
      "source": [
        "df['age'] = df['age'].astype(int)\n",
        "df['income'] = df['income'].astype(int)"
      ]
    },
    {
      "cell_type": "code",
      "execution_count": 93,
      "metadata": {
        "colab": {
          "base_uri": "https://localhost:8080/",
          "height": 226
        },
        "id": "Bh2BlFIu4lkS",
        "outputId": "33ce4c56-bd86-4c02-f086-0a2f1bc8aaa2"
      },
      "outputs": [
        {
          "data": {
            "text/html": [
              "<div>\n",
              "<style scoped>\n",
              "    .dataframe tbody tr th:only-of-type {\n",
              "        vertical-align: middle;\n",
              "    }\n",
              "\n",
              "    .dataframe tbody tr th {\n",
              "        vertical-align: top;\n",
              "    }\n",
              "\n",
              "    .dataframe thead th {\n",
              "        text-align: right;\n",
              "    }\n",
              "</style>\n",
              "<table border=\"1\" class=\"dataframe\">\n",
              "  <thead>\n",
              "    <tr style=\"text-align: right;\">\n",
              "      <th></th>\n",
              "      <th>id</th>\n",
              "      <th>age</th>\n",
              "      <th>gender</th>\n",
              "      <th>income</th>\n",
              "      <th>spending_score</th>\n",
              "      <th>membership_years</th>\n",
              "      <th>purchase_frequency</th>\n",
              "      <th>preferred_category</th>\n",
              "      <th>last_purchase_amount</th>\n",
              "    </tr>\n",
              "  </thead>\n",
              "  <tbody>\n",
              "    <tr>\n",
              "      <th>0</th>\n",
              "      <td>1.0</td>\n",
              "      <td>38</td>\n",
              "      <td>Female</td>\n",
              "      <td>99342</td>\n",
              "      <td>90.0</td>\n",
              "      <td>3.0</td>\n",
              "      <td>24.0</td>\n",
              "      <td>Groceries</td>\n",
              "      <td>113.53</td>\n",
              "    </tr>\n",
              "    <tr>\n",
              "      <th>1</th>\n",
              "      <td>2.0</td>\n",
              "      <td>21</td>\n",
              "      <td>Female</td>\n",
              "      <td>78852</td>\n",
              "      <td>60.0</td>\n",
              "      <td>2.0</td>\n",
              "      <td>42.0</td>\n",
              "      <td>Unknown</td>\n",
              "      <td>41.93</td>\n",
              "    </tr>\n",
              "    <tr>\n",
              "      <th>2</th>\n",
              "      <td>3.0</td>\n",
              "      <td>60</td>\n",
              "      <td>Female</td>\n",
              "      <td>126573</td>\n",
              "      <td>30.0</td>\n",
              "      <td>2.0</td>\n",
              "      <td>28.0</td>\n",
              "      <td>Clothing</td>\n",
              "      <td>424.36</td>\n",
              "    </tr>\n",
              "    <tr>\n",
              "      <th>3</th>\n",
              "      <td>4.0</td>\n",
              "      <td>40</td>\n",
              "      <td>Other</td>\n",
              "      <td>47099</td>\n",
              "      <td>74.0</td>\n",
              "      <td>9.0</td>\n",
              "      <td>5.0</td>\n",
              "      <td>Unknown</td>\n",
              "      <td>991.93</td>\n",
              "    </tr>\n",
              "    <tr>\n",
              "      <th>4</th>\n",
              "      <td>5.0</td>\n",
              "      <td>65</td>\n",
              "      <td>Female</td>\n",
              "      <td>140621</td>\n",
              "      <td>21.0</td>\n",
              "      <td>3.0</td>\n",
              "      <td>25.0</td>\n",
              "      <td>Electronics</td>\n",
              "      <td>347.08</td>\n",
              "    </tr>\n",
              "  </tbody>\n",
              "</table>\n",
              "</div>"
            ],
            "text/plain": [
              "    id  age  gender  income  spending_score  membership_years  \\\n",
              "0  1.0   38  Female   99342            90.0               3.0   \n",
              "1  2.0   21  Female   78852            60.0               2.0   \n",
              "2  3.0   60  Female  126573            30.0               2.0   \n",
              "3  4.0   40   Other   47099            74.0               9.0   \n",
              "4  5.0   65  Female  140621            21.0               3.0   \n",
              "\n",
              "   purchase_frequency preferred_category  last_purchase_amount  \n",
              "0                24.0          Groceries                113.53  \n",
              "1                42.0            Unknown                 41.93  \n",
              "2                28.0           Clothing                424.36  \n",
              "3                 5.0            Unknown                991.93  \n",
              "4                25.0        Electronics                347.08  "
            ]
          },
          "execution_count": 93,
          "metadata": {},
          "output_type": "execute_result"
        }
      ],
      "source": [
        "df.head()"
      ]
    },
    {
      "cell_type": "markdown",
      "metadata": {
        "id": "Hsn_H2c3j3i5"
      },
      "source": [
        "## visualização de distribuição"
      ]
    },
    {
      "cell_type": "code",
      "execution_count": 94,
      "metadata": {
        "colab": {
          "base_uri": "https://localhost:8080/",
          "height": 472
        },
        "id": "ATR5La_5I2Ai",
        "outputId": "dd5daca2-8acc-417a-8071-9c4804b20369"
      },
      "outputs": [
        {
          "data": {
            "image/png": "[encoded data removed]",
            "text/plain": [
              "<Figure size 640x480 with 1 Axes>"
            ]
          },
          "metadata": {},
          "output_type": "display_data"
        }
      ],
      "source": [
        "plt.hist(df['gender'], bins=10)\n",
        "plt.xlabel('Genero')\n",
        "plt.ylabel('Frequência')\n",
        "plt.title('Distribuição de Idade dos Clientes')\n",
        "plt.show()"
      ]
    },
    {
      "cell_type": "code",
      "execution_count": 95,
      "metadata": {
        "id": "ARhkf05XRJ8a"
      },
      "outputs": [],
      "source": [
        "df = df[df['spending_score'] <= 100]"
      ]
    },
    {
      "cell_type": "code",
      "execution_count": 96,
      "metadata": {
        "colab": {
          "base_uri": "https://localhost:8080/",
          "height": 472
        },
        "id": "24KDQTG2Kseq",
        "outputId": "8e0adb94-8691-4195-ffbd-c4053461e719"
      },
      "outputs": [
        {
          "data": {
            "image/png": "[encoded data removed]",
            "text/plain": [
              "<Figure size 640x480 with 1 Axes>"
            ]
          },
          "metadata": {},
          "output_type": "display_data"
        }
      ],
      "source": [
        "plt.scatter(df['income'], df['spending_score'])\n",
        "plt.xlabel('Renda')\n",
        "plt.ylabel('Pontuação de Gastos')\n",
        "plt.title('Relação entre Renda e Pontuação de Gastos')\n",
        "plt.show()"
      ]
    },
    {
      "cell_type": "markdown",
      "metadata": {
        "id": "iowQEbXpj7du"
      },
      "source": [
        "# Criando Segmentação"
      ]
    },
    {
      "cell_type": "code",
      "execution_count": 97,
      "metadata": {
        "id": "dLpwXPOhMkdO"
      },
      "outputs": [],
      "source": [
        "\n",
        "df['income_qcut'],bins = pd.qcut(df['income'], q=4,retbins=True, duplicates='drop')"
      ]
    },
    {
      "cell_type": "code",
      "execution_count": 98,
      "metadata": {},
      "outputs": [
        {
          "data": {
            "text/plain": [
              "income_qcut\n",
              "(30003.999, 60038.5]     248\n",
              "(60038.5, 92031.0]       248\n",
              "(115854.0, 1329680.0]    248\n",
              "(92031.0, 115854.0]      247\n",
              "Name: count, dtype: int64"
            ]
          },
          "execution_count": 98,
          "metadata": {},
          "output_type": "execute_result"
        }
      ],
      "source": [
        "df['income_qcut'].value_counts()"
      ]
    },
    {
      "cell_type": "code",
      "execution_count": 99,
      "metadata": {
        "colab": {
          "base_uri": "https://localhost:8080/",
          "height": 313
        },
        "id": "XO0ZPwyUTAkb",
        "outputId": "0da662a8-3bf5-4c3b-f286-06842fa081f5"
      },
      "outputs": [
        {
          "data": {
            "text/html": [
              "<div>\n",
              "<style scoped>\n",
              "    .dataframe tbody tr th:only-of-type {\n",
              "        vertical-align: middle;\n",
              "    }\n",
              "\n",
              "    .dataframe tbody tr th {\n",
              "        vertical-align: top;\n",
              "    }\n",
              "\n",
              "    .dataframe thead th {\n",
              "        text-align: right;\n",
              "    }\n",
              "</style>\n",
              "<table border=\"1\" class=\"dataframe\">\n",
              "  <thead>\n",
              "    <tr style=\"text-align: right;\">\n",
              "      <th></th>\n",
              "      <th>id</th>\n",
              "      <th>age</th>\n",
              "      <th>gender</th>\n",
              "      <th>income</th>\n",
              "      <th>spending_score</th>\n",
              "      <th>membership_years</th>\n",
              "      <th>purchase_frequency</th>\n",
              "      <th>preferred_category</th>\n",
              "      <th>last_purchase_amount</th>\n",
              "      <th>income_qcut</th>\n",
              "    </tr>\n",
              "  </thead>\n",
              "  <tbody>\n",
              "    <tr>\n",
              "      <th>0</th>\n",
              "      <td>1.0</td>\n",
              "      <td>38</td>\n",
              "      <td>Female</td>\n",
              "      <td>99342</td>\n",
              "      <td>90.0</td>\n",
              "      <td>3.0</td>\n",
              "      <td>24.0</td>\n",
              "      <td>Groceries</td>\n",
              "      <td>113.53</td>\n",
              "      <td>(92031.0, 115854.0]</td>\n",
              "    </tr>\n",
              "    <tr>\n",
              "      <th>1</th>\n",
              "      <td>2.0</td>\n",
              "      <td>21</td>\n",
              "      <td>Female</td>\n",
              "      <td>78852</td>\n",
              "      <td>60.0</td>\n",
              "      <td>2.0</td>\n",
              "      <td>42.0</td>\n",
              "      <td>Unknown</td>\n",
              "      <td>41.93</td>\n",
              "      <td>(60038.5, 92031.0]</td>\n",
              "    </tr>\n",
              "    <tr>\n",
              "      <th>2</th>\n",
              "      <td>3.0</td>\n",
              "      <td>60</td>\n",
              "      <td>Female</td>\n",
              "      <td>126573</td>\n",
              "      <td>30.0</td>\n",
              "      <td>2.0</td>\n",
              "      <td>28.0</td>\n",
              "      <td>Clothing</td>\n",
              "      <td>424.36</td>\n",
              "      <td>(115854.0, 1329680.0]</td>\n",
              "    </tr>\n",
              "    <tr>\n",
              "      <th>3</th>\n",
              "      <td>4.0</td>\n",
              "      <td>40</td>\n",
              "      <td>Other</td>\n",
              "      <td>47099</td>\n",
              "      <td>74.0</td>\n",
              "      <td>9.0</td>\n",
              "      <td>5.0</td>\n",
              "      <td>Unknown</td>\n",
              "      <td>991.93</td>\n",
              "      <td>(30003.999, 60038.5]</td>\n",
              "    </tr>\n",
              "    <tr>\n",
              "      <th>4</th>\n",
              "      <td>5.0</td>\n",
              "      <td>65</td>\n",
              "      <td>Female</td>\n",
              "      <td>140621</td>\n",
              "      <td>21.0</td>\n",
              "      <td>3.0</td>\n",
              "      <td>25.0</td>\n",
              "      <td>Electronics</td>\n",
              "      <td>347.08</td>\n",
              "      <td>(115854.0, 1329680.0]</td>\n",
              "    </tr>\n",
              "  </tbody>\n",
              "</table>\n",
              "</div>"
            ],
            "text/plain": [
              "    id  age  gender  income  spending_score  membership_years  \\\n",
              "0  1.0   38  Female   99342            90.0               3.0   \n",
              "1  2.0   21  Female   78852            60.0               2.0   \n",
              "2  3.0   60  Female  126573            30.0               2.0   \n",
              "3  4.0   40   Other   47099            74.0               9.0   \n",
              "4  5.0   65  Female  140621            21.0               3.0   \n",
              "\n",
              "   purchase_frequency preferred_category  last_purchase_amount  \\\n",
              "0                24.0          Groceries                113.53   \n",
              "1                42.0            Unknown                 41.93   \n",
              "2                28.0           Clothing                424.36   \n",
              "3                 5.0            Unknown                991.93   \n",
              "4                25.0        Electronics                347.08   \n",
              "\n",
              "             income_qcut  \n",
              "0    (92031.0, 115854.0]  \n",
              "1     (60038.5, 92031.0]  \n",
              "2  (115854.0, 1329680.0]  \n",
              "3   (30003.999, 60038.5]  \n",
              "4  (115854.0, 1329680.0]  "
            ]
          },
          "execution_count": 99,
          "metadata": {},
          "output_type": "execute_result"
        }
      ],
      "source": [
        "df.head()"
      ]
    },
    {
      "cell_type": "code",
      "execution_count": 100,
      "metadata": {
        "id": "Aowp_ag3Ttru"
      },
      "outputs": [],
      "source": [
        "income_counts = df['income_qcut'].value_counts()"
      ]
    },
    {
      "cell_type": "code",
      "execution_count": 101,
      "metadata": {
        "colab": {
          "base_uri": "https://localhost:8080/",
          "height": 521
        },
        "id": "pA6cz-CXVR-5",
        "outputId": "72b241a3-f388-48f5-cead-89fd43c224de"
      },
      "outputs": [
        {
          "data": {
            "image/png": "[encoded data removed]",
            "text/plain": [
              "<Figure size 800x600 with 1 Axes>"
            ]
          },
          "metadata": {},
          "output_type": "display_data"
        }
      ],
      "source": [
        "plt.figure(figsize=(8, 6))\n",
        "plt.pie(income_counts, labels=income_counts.index, autopct='%1.1f%%', startangle=90)\n",
        "plt.title('Distribuição de Renda')\n",
        "plt.show()"
      ]
    },
    {
      "cell_type": "code",
      "execution_count": 102,
      "metadata": {
        "colab": {
          "base_uri": "https://localhost:8080/",
          "height": 575
        },
        "id": "7Os_PIxMV9vc",
        "outputId": "03fbb67d-924b-4f02-ee1f-6abb637c765c"
      },
      "outputs": [
        {
          "name": "stderr",
          "output_type": "stream",
          "text": [
            "C:\\Users\\julio\\AppData\\Local\\Temp\\ipykernel_15428\\1242780822.py:1: FutureWarning: The default of observed=False is deprecated and will be changed to True in a future version of pandas. Pass observed=False to retain current behavior or observed=True to adopt the future default and silence this warning.\n",
            "  df.groupby('income_qcut')['spending_score'].mean().plot(kind='bar')\n"
          ]
        },
        {
          "data": {
            "image/png": "[encoded data removed]",
            "text/plain": [
              "<Figure size 640x480 with 1 Axes>"
            ]
          },
          "metadata": {},
          "output_type": "display_data"
        }
      ],
      "source": [
        "df.groupby('income_qcut')['spending_score'].mean().plot(kind='bar')\n",
        "plt.title('Média do Spending Score por Faixa de Renda')\n",
        "plt.xlabel('Faixa de Renda')\n",
        "plt.ylabel('Média do Spending Score')\n",
        "plt.xticks(rotation=45)\n",
        "plt.show()"
      ]
    },
    {
      "cell_type": "code",
      "execution_count": 103,
      "metadata": {
        "colab": {
          "base_uri": "https://localhost:8080/",
          "height": 667
        },
        "id": "BTMNAN_5Xv64",
        "outputId": "c8dc0997-4e8f-4825-b9b5-13cd4ed09f20"
      },
      "outputs": [
        {
          "data": {
            "image/png": "[encoded data removed]",
            "text/plain": [
              "<Figure size 800x600 with 1 Axes>"
            ]
          },
          "metadata": {},
          "output_type": "display_data"
        }
      ],
      "source": [
        "\n",
        "plt.figure(figsize=(8, 6))\n",
        "sns.stripplot(x='income_qcut', y=df['spending_score'], data=df, jitter=True, dodge=True)\n",
        "plt.title('Relação entre Faixa de Renda e Spending Score (com Jittering)')\n",
        "plt.xlabel('Faixa de Renda')\n",
        "plt.ylabel('Spending Score')\n",
        "plt.xticks(rotation=45)\n",
        "plt.show()"
      ]
    },
    {
      "cell_type": "code",
      "execution_count": 104,
      "metadata": {
        "colab": {
          "base_uri": "https://localhost:8080/"
        },
        "id": "Dqk1RgEhYG84",
        "outputId": "f9fa8f39-5232-418d-82a7-73c8aab46d1c"
      },
      "outputs": [
        {
          "name": "stdout",
          "output_type": "stream",
          "text": [
            "<class 'pandas.core.series.Series'>\n",
            "Index: 991 entries, 0 to 999\n",
            "Series name: income_qcut\n",
            "Non-Null Count  Dtype   \n",
            "--------------  -----   \n",
            "991 non-null    category\n",
            "dtypes: category(1)\n",
            "memory usage: 8.9 KB\n"
          ]
        }
      ],
      "source": [
        "df['income_qcut'].info()"
      ]
    },
    {
      "cell_type": "code",
      "execution_count": 105,
      "metadata": {
        "colab": {
          "base_uri": "https://localhost:8080/"
        },
        "id": "rd86MCrtR2ve",
        "outputId": "0d931fa4-a896-4f5c-e36c-a4ad43ca5fbf"
      },
      "outputs": [
        {
          "data": {
            "text/plain": [
              "income_qcut\n",
              "(30003.999, 60038.5]     248\n",
              "(60038.5, 92031.0]       248\n",
              "(115854.0, 1329680.0]    248\n",
              "(92031.0, 115854.0]      247\n",
              "Name: count, dtype: int64"
            ]
          },
          "execution_count": 105,
          "metadata": {},
          "output_type": "execute_result"
        }
      ],
      "source": [
        "df['income_qcut'].value_counts()"
      ]
    },
    {
      "cell_type": "code",
      "execution_count": 106,
      "metadata": {
        "id": "UmyOM4ZdYMwI"
      },
      "outputs": [],
      "source": [
        "mapeamento_renda = {\n",
        "    '(60038.5, 92031.0]':2,\n",
        "    '(30003.999, 60038.5]':1,\n",
        "    '(92031.0, 115854.0]':3,\n",
        "    '(115854.0, 1329680.0]':4\n",
        "}\n",
        "\n",
        "df['income_level'] = df['income_qcut'].astype(str).map(mapeamento_renda)\n"
      ]
    },
    {
      "cell_type": "code",
      "execution_count": 107,
      "metadata": {
        "colab": {
          "base_uri": "https://localhost:8080/",
          "height": 313
        },
        "id": "RwfPU28TOXjE",
        "outputId": "277ef905-045f-4c8e-dcef-dee83961417a"
      },
      "outputs": [
        {
          "data": {
            "text/html": [
              "<div>\n",
              "<style scoped>\n",
              "    .dataframe tbody tr th:only-of-type {\n",
              "        vertical-align: middle;\n",
              "    }\n",
              "\n",
              "    .dataframe tbody tr th {\n",
              "        vertical-align: top;\n",
              "    }\n",
              "\n",
              "    .dataframe thead th {\n",
              "        text-align: right;\n",
              "    }\n",
              "</style>\n",
              "<table border=\"1\" class=\"dataframe\">\n",
              "  <thead>\n",
              "    <tr style=\"text-align: right;\">\n",
              "      <th></th>\n",
              "      <th>id</th>\n",
              "      <th>age</th>\n",
              "      <th>gender</th>\n",
              "      <th>income</th>\n",
              "      <th>spending_score</th>\n",
              "      <th>membership_years</th>\n",
              "      <th>purchase_frequency</th>\n",
              "      <th>preferred_category</th>\n",
              "      <th>last_purchase_amount</th>\n",
              "      <th>income_qcut</th>\n",
              "      <th>income_level</th>\n",
              "    </tr>\n",
              "  </thead>\n",
              "  <tbody>\n",
              "    <tr>\n",
              "      <th>0</th>\n",
              "      <td>1.0</td>\n",
              "      <td>38</td>\n",
              "      <td>Female</td>\n",
              "      <td>99342</td>\n",
              "      <td>90.0</td>\n",
              "      <td>3.0</td>\n",
              "      <td>24.0</td>\n",
              "      <td>Groceries</td>\n",
              "      <td>113.53</td>\n",
              "      <td>(92031.0, 115854.0]</td>\n",
              "      <td>3</td>\n",
              "    </tr>\n",
              "    <tr>\n",
              "      <th>1</th>\n",
              "      <td>2.0</td>\n",
              "      <td>21</td>\n",
              "      <td>Female</td>\n",
              "      <td>78852</td>\n",
              "      <td>60.0</td>\n",
              "      <td>2.0</td>\n",
              "      <td>42.0</td>\n",
              "      <td>Unknown</td>\n",
              "      <td>41.93</td>\n",
              "      <td>(60038.5, 92031.0]</td>\n",
              "      <td>2</td>\n",
              "    </tr>\n",
              "    <tr>\n",
              "      <th>2</th>\n",
              "      <td>3.0</td>\n",
              "      <td>60</td>\n",
              "      <td>Female</td>\n",
              "      <td>126573</td>\n",
              "      <td>30.0</td>\n",
              "      <td>2.0</td>\n",
              "      <td>28.0</td>\n",
              "      <td>Clothing</td>\n",
              "      <td>424.36</td>\n",
              "      <td>(115854.0, 1329680.0]</td>\n",
              "      <td>4</td>\n",
              "    </tr>\n",
              "    <tr>\n",
              "      <th>3</th>\n",
              "      <td>4.0</td>\n",
              "      <td>40</td>\n",
              "      <td>Other</td>\n",
              "      <td>47099</td>\n",
              "      <td>74.0</td>\n",
              "      <td>9.0</td>\n",
              "      <td>5.0</td>\n",
              "      <td>Unknown</td>\n",
              "      <td>991.93</td>\n",
              "      <td>(30003.999, 60038.5]</td>\n",
              "      <td>1</td>\n",
              "    </tr>\n",
              "    <tr>\n",
              "      <th>4</th>\n",
              "      <td>5.0</td>\n",
              "      <td>65</td>\n",
              "      <td>Female</td>\n",
              "      <td>140621</td>\n",
              "      <td>21.0</td>\n",
              "      <td>3.0</td>\n",
              "      <td>25.0</td>\n",
              "      <td>Electronics</td>\n",
              "      <td>347.08</td>\n",
              "      <td>(115854.0, 1329680.0]</td>\n",
              "      <td>4</td>\n",
              "    </tr>\n",
              "  </tbody>\n",
              "</table>\n",
              "</div>"
            ],
            "text/plain": [
              "    id  age  gender  income  spending_score  membership_years  \\\n",
              "0  1.0   38  Female   99342            90.0               3.0   \n",
              "1  2.0   21  Female   78852            60.0               2.0   \n",
              "2  3.0   60  Female  126573            30.0               2.0   \n",
              "3  4.0   40   Other   47099            74.0               9.0   \n",
              "4  5.0   65  Female  140621            21.0               3.0   \n",
              "\n",
              "   purchase_frequency preferred_category  last_purchase_amount  \\\n",
              "0                24.0          Groceries                113.53   \n",
              "1                42.0            Unknown                 41.93   \n",
              "2                28.0           Clothing                424.36   \n",
              "3                 5.0            Unknown                991.93   \n",
              "4                25.0        Electronics                347.08   \n",
              "\n",
              "             income_qcut  income_level  \n",
              "0    (92031.0, 115854.0]             3  \n",
              "1     (60038.5, 92031.0]             2  \n",
              "2  (115854.0, 1329680.0]             4  \n",
              "3   (30003.999, 60038.5]             1  \n",
              "4  (115854.0, 1329680.0]             4  "
            ]
          },
          "execution_count": 107,
          "metadata": {},
          "output_type": "execute_result"
        }
      ],
      "source": [
        "df.head()"
      ]
    },
    {
      "cell_type": "code",
      "execution_count": 108,
      "metadata": {
        "colab": {
          "base_uri": "https://localhost:8080/"
        },
        "id": "cD1FObUXOYdd",
        "outputId": "ae99e96b-88b2-491f-921f-fab9da7edee8"
      },
      "outputs": [
        {
          "data": {
            "text/plain": [
              "income_level\n",
              "2    248\n",
              "4    248\n",
              "1    248\n",
              "3    247\n",
              "Name: count, dtype: int64"
            ]
          },
          "execution_count": 108,
          "metadata": {},
          "output_type": "execute_result"
        }
      ],
      "source": [
        "df['income_level'].value_counts()"
      ]
    },
    {
      "cell_type": "code",
      "execution_count": 109,
      "metadata": {
        "id": "8F8Ux5qoObC9"
      },
      "outputs": [],
      "source": [
        "df['spending_qcut'] = pd.qcut(df['spending_score'], q=4, duplicates='drop')"
      ]
    },
    {
      "cell_type": "code",
      "execution_count": 110,
      "metadata": {},
      "outputs": [
        {
          "data": {
            "text/plain": [
              "spending_qcut\n",
              "(27.0, 54.932]    288\n",
              "(0.999, 27.0]     254\n",
              "(75.0, 100.0]     244\n",
              "(54.932, 75.0]    205\n",
              "Name: count, dtype: int64"
            ]
          },
          "execution_count": 110,
          "metadata": {},
          "output_type": "execute_result"
        }
      ],
      "source": [
        "df['spending_qcut'].value_counts()"
      ]
    },
    {
      "cell_type": "code",
      "execution_count": null,
      "metadata": {},
      "outputs": [],
      "source": [
        "\n"
      ]
    },
    {
      "cell_type": "code",
      "execution_count": 111,
      "metadata": {
        "id": "3QSibndWQyJT"
      },
      "outputs": [],
      "source": [
        "mapeamento_spending = {\n",
        "'(27.0, 54.932]': 2,\n",
        "'(0.999, 27.0]':1,\n",
        "'(75.0, 100.0]':4,\n",
        "'(54.932, 75.0]':3\n",
        "\n",
        "}\n",
        "\n",
        "\n",
        "df['spending_level'] = df['spending_qcut'].astype(str).map(mapeamento_spending)"
      ]
    },
    {
      "cell_type": "code",
      "execution_count": 112,
      "metadata": {
        "colab": {
          "base_uri": "https://localhost:8080/",
          "height": 313
        },
        "id": "mnx4Yj91Ru5Z",
        "outputId": "3f6e9706-a8dd-4a76-bde3-131daccb9321"
      },
      "outputs": [
        {
          "data": {
            "text/html": [
              "<div>\n",
              "<style scoped>\n",
              "    .dataframe tbody tr th:only-of-type {\n",
              "        vertical-align: middle;\n",
              "    }\n",
              "\n",
              "    .dataframe tbody tr th {\n",
              "        vertical-align: top;\n",
              "    }\n",
              "\n",
              "    .dataframe thead th {\n",
              "        text-align: right;\n",
              "    }\n",
              "</style>\n",
              "<table border=\"1\" class=\"dataframe\">\n",
              "  <thead>\n",
              "    <tr style=\"text-align: right;\">\n",
              "      <th></th>\n",
              "      <th>id</th>\n",
              "      <th>age</th>\n",
              "      <th>gender</th>\n",
              "      <th>income</th>\n",
              "      <th>spending_score</th>\n",
              "      <th>membership_years</th>\n",
              "      <th>purchase_frequency</th>\n",
              "      <th>preferred_category</th>\n",
              "      <th>last_purchase_amount</th>\n",
              "      <th>income_qcut</th>\n",
              "      <th>income_level</th>\n",
              "      <th>spending_qcut</th>\n",
              "      <th>spending_level</th>\n",
              "    </tr>\n",
              "  </thead>\n",
              "  <tbody>\n",
              "    <tr>\n",
              "      <th>0</th>\n",
              "      <td>1.0</td>\n",
              "      <td>38</td>\n",
              "      <td>Female</td>\n",
              "      <td>99342</td>\n",
              "      <td>90.0</td>\n",
              "      <td>3.0</td>\n",
              "      <td>24.0</td>\n",
              "      <td>Groceries</td>\n",
              "      <td>113.53</td>\n",
              "      <td>(92031.0, 115854.0]</td>\n",
              "      <td>3</td>\n",
              "      <td>(75.0, 100.0]</td>\n",
              "      <td>4</td>\n",
              "    </tr>\n",
              "    <tr>\n",
              "      <th>1</th>\n",
              "      <td>2.0</td>\n",
              "      <td>21</td>\n",
              "      <td>Female</td>\n",
              "      <td>78852</td>\n",
              "      <td>60.0</td>\n",
              "      <td>2.0</td>\n",
              "      <td>42.0</td>\n",
              "      <td>Unknown</td>\n",
              "      <td>41.93</td>\n",
              "      <td>(60038.5, 92031.0]</td>\n",
              "      <td>2</td>\n",
              "      <td>(54.932, 75.0]</td>\n",
              "      <td>3</td>\n",
              "    </tr>\n",
              "    <tr>\n",
              "      <th>2</th>\n",
              "      <td>3.0</td>\n",
              "      <td>60</td>\n",
              "      <td>Female</td>\n",
              "      <td>126573</td>\n",
              "      <td>30.0</td>\n",
              "      <td>2.0</td>\n",
              "      <td>28.0</td>\n",
              "      <td>Clothing</td>\n",
              "      <td>424.36</td>\n",
              "      <td>(115854.0, 1329680.0]</td>\n",
              "      <td>4</td>\n",
              "      <td>(27.0, 54.932]</td>\n",
              "      <td>2</td>\n",
              "    </tr>\n",
              "    <tr>\n",
              "      <th>3</th>\n",
              "      <td>4.0</td>\n",
              "      <td>40</td>\n",
              "      <td>Other</td>\n",
              "      <td>47099</td>\n",
              "      <td>74.0</td>\n",
              "      <td>9.0</td>\n",
              "      <td>5.0</td>\n",
              "      <td>Unknown</td>\n",
              "      <td>991.93</td>\n",
              "      <td>(30003.999, 60038.5]</td>\n",
              "      <td>1</td>\n",
              "      <td>(54.932, 75.0]</td>\n",
              "      <td>3</td>\n",
              "    </tr>\n",
              "    <tr>\n",
              "      <th>4</th>\n",
              "      <td>5.0</td>\n",
              "      <td>65</td>\n",
              "      <td>Female</td>\n",
              "      <td>140621</td>\n",
              "      <td>21.0</td>\n",
              "      <td>3.0</td>\n",
              "      <td>25.0</td>\n",
              "      <td>Electronics</td>\n",
              "      <td>347.08</td>\n",
              "      <td>(115854.0, 1329680.0]</td>\n",
              "      <td>4</td>\n",
              "      <td>(0.999, 27.0]</td>\n",
              "      <td>1</td>\n",
              "    </tr>\n",
              "  </tbody>\n",
              "</table>\n",
              "</div>"
            ],
            "text/plain": [
              "    id  age  gender  income  spending_score  membership_years  \\\n",
              "0  1.0   38  Female   99342            90.0               3.0   \n",
              "1  2.0   21  Female   78852            60.0               2.0   \n",
              "2  3.0   60  Female  126573            30.0               2.0   \n",
              "3  4.0   40   Other   47099            74.0               9.0   \n",
              "4  5.0   65  Female  140621            21.0               3.0   \n",
              "\n",
              "   purchase_frequency preferred_category  last_purchase_amount  \\\n",
              "0                24.0          Groceries                113.53   \n",
              "1                42.0            Unknown                 41.93   \n",
              "2                28.0           Clothing                424.36   \n",
              "3                 5.0            Unknown                991.93   \n",
              "4                25.0        Electronics                347.08   \n",
              "\n",
              "             income_qcut  income_level   spending_qcut  spending_level  \n",
              "0    (92031.0, 115854.0]             3   (75.0, 100.0]               4  \n",
              "1     (60038.5, 92031.0]             2  (54.932, 75.0]               3  \n",
              "2  (115854.0, 1329680.0]             4  (27.0, 54.932]               2  \n",
              "3   (30003.999, 60038.5]             1  (54.932, 75.0]               3  \n",
              "4  (115854.0, 1329680.0]             4   (0.999, 27.0]               1  "
            ]
          },
          "execution_count": 112,
          "metadata": {},
          "output_type": "execute_result"
        }
      ],
      "source": [
        "df.head()"
      ]
    },
    {
      "cell_type": "code",
      "execution_count": 113,
      "metadata": {
        "id": "rc-WVg5ERwVO"
      },
      "outputs": [],
      "source": [
        "df['purchase_frequency_qcut'] = pd.qcut(df['purchase_frequency'], q=4, duplicates='drop')"
      ]
    },
    {
      "cell_type": "code",
      "execution_count": 114,
      "metadata": {
        "colab": {
          "base_uri": "https://localhost:8080/",
          "height": 313
        },
        "id": "bh77rkFZVY4O",
        "outputId": "4ae9ac96-a5ac-4968-95e0-f661447ab199"
      },
      "outputs": [
        {
          "data": {
            "text/plain": [
              "purchase_frequency_qcut\n",
              "(26.514, 38.0]    253\n",
              "(15.5, 26.514]    249\n",
              "(0.999, 15.5]     248\n",
              "(38.0, 50.0]      241\n",
              "Name: count, dtype: int64"
            ]
          },
          "execution_count": 114,
          "metadata": {},
          "output_type": "execute_result"
        }
      ],
      "source": [
        "df['purchase_frequency_qcut'].value_counts()"
      ]
    },
    {
      "cell_type": "code",
      "execution_count": null,
      "metadata": {
        "colab": {
          "base_uri": "https://localhost:8080/"
        },
        "id": "KNfmM9yeVaDO",
        "outputId": "0f0bbdcf-ba8e-4d12-f510-3048a1beb4a3"
      },
      "outputs": [],
      "source": []
    },
    {
      "cell_type": "code",
      "execution_count": 115,
      "metadata": {
        "id": "hHRswLTFVdId"
      },
      "outputs": [],
      "source": [
        "mapeamento_purchase = {\n",
        "    \n",
        "    '(15.5, 26.514]':2, \n",
        "    '(0.999, 15.5]':1,  \n",
        "    '(26.514, 38.0]':3,   \n",
        "    '(38.0, 50.0]': 4\n",
        "}\n",
        "\n",
        "\n",
        "df['purchase_frequency_level'] = df['purchase_frequency_qcut'].astype(str).map(mapeamento_purchase)"
      ]
    },
    {
      "cell_type": "code",
      "execution_count": 116,
      "metadata": {
        "colab": {
          "base_uri": "https://localhost:8080/",
          "height": 313
        },
        "id": "J7u4bPMtV89r",
        "outputId": "f13af3bd-ae13-4afb-fce3-e1aae7c0cdaf"
      },
      "outputs": [
        {
          "data": {
            "text/html": [
              "<div>\n",
              "<style scoped>\n",
              "    .dataframe tbody tr th:only-of-type {\n",
              "        vertical-align: middle;\n",
              "    }\n",
              "\n",
              "    .dataframe tbody tr th {\n",
              "        vertical-align: top;\n",
              "    }\n",
              "\n",
              "    .dataframe thead th {\n",
              "        text-align: right;\n",
              "    }\n",
              "</style>\n",
              "<table border=\"1\" class=\"dataframe\">\n",
              "  <thead>\n",
              "    <tr style=\"text-align: right;\">\n",
              "      <th></th>\n",
              "      <th>id</th>\n",
              "      <th>age</th>\n",
              "      <th>gender</th>\n",
              "      <th>income</th>\n",
              "      <th>spending_score</th>\n",
              "      <th>membership_years</th>\n",
              "      <th>purchase_frequency</th>\n",
              "      <th>preferred_category</th>\n",
              "      <th>last_purchase_amount</th>\n",
              "      <th>income_qcut</th>\n",
              "      <th>income_level</th>\n",
              "      <th>spending_qcut</th>\n",
              "      <th>spending_level</th>\n",
              "      <th>purchase_frequency_qcut</th>\n",
              "      <th>purchase_frequency_level</th>\n",
              "    </tr>\n",
              "  </thead>\n",
              "  <tbody>\n",
              "    <tr>\n",
              "      <th>0</th>\n",
              "      <td>1.0</td>\n",
              "      <td>38</td>\n",
              "      <td>Female</td>\n",
              "      <td>99342</td>\n",
              "      <td>90.0</td>\n",
              "      <td>3.0</td>\n",
              "      <td>24.0</td>\n",
              "      <td>Groceries</td>\n",
              "      <td>113.53</td>\n",
              "      <td>(92031.0, 115854.0]</td>\n",
              "      <td>3</td>\n",
              "      <td>(75.0, 100.0]</td>\n",
              "      <td>4</td>\n",
              "      <td>(15.5, 26.514]</td>\n",
              "      <td>2</td>\n",
              "    </tr>\n",
              "    <tr>\n",
              "      <th>1</th>\n",
              "      <td>2.0</td>\n",
              "      <td>21</td>\n",
              "      <td>Female</td>\n",
              "      <td>78852</td>\n",
              "      <td>60.0</td>\n",
              "      <td>2.0</td>\n",
              "      <td>42.0</td>\n",
              "      <td>Unknown</td>\n",
              "      <td>41.93</td>\n",
              "      <td>(60038.5, 92031.0]</td>\n",
              "      <td>2</td>\n",
              "      <td>(54.932, 75.0]</td>\n",
              "      <td>3</td>\n",
              "      <td>(38.0, 50.0]</td>\n",
              "      <td>4</td>\n",
              "    </tr>\n",
              "    <tr>\n",
              "      <th>2</th>\n",
              "      <td>3.0</td>\n",
              "      <td>60</td>\n",
              "      <td>Female</td>\n",
              "      <td>126573</td>\n",
              "      <td>30.0</td>\n",
              "      <td>2.0</td>\n",
              "      <td>28.0</td>\n",
              "      <td>Clothing</td>\n",
              "      <td>424.36</td>\n",
              "      <td>(115854.0, 1329680.0]</td>\n",
              "      <td>4</td>\n",
              "      <td>(27.0, 54.932]</td>\n",
              "      <td>2</td>\n",
              "      <td>(26.514, 38.0]</td>\n",
              "      <td>3</td>\n",
              "    </tr>\n",
              "    <tr>\n",
              "      <th>3</th>\n",
              "      <td>4.0</td>\n",
              "      <td>40</td>\n",
              "      <td>Other</td>\n",
              "      <td>47099</td>\n",
              "      <td>74.0</td>\n",
              "      <td>9.0</td>\n",
              "      <td>5.0</td>\n",
              "      <td>Unknown</td>\n",
              "      <td>991.93</td>\n",
              "      <td>(30003.999, 60038.5]</td>\n",
              "      <td>1</td>\n",
              "      <td>(54.932, 75.0]</td>\n",
              "      <td>3</td>\n",
              "      <td>(0.999, 15.5]</td>\n",
              "      <td>1</td>\n",
              "    </tr>\n",
              "    <tr>\n",
              "      <th>4</th>\n",
              "      <td>5.0</td>\n",
              "      <td>65</td>\n",
              "      <td>Female</td>\n",
              "      <td>140621</td>\n",
              "      <td>21.0</td>\n",
              "      <td>3.0</td>\n",
              "      <td>25.0</td>\n",
              "      <td>Electronics</td>\n",
              "      <td>347.08</td>\n",
              "      <td>(115854.0, 1329680.0]</td>\n",
              "      <td>4</td>\n",
              "      <td>(0.999, 27.0]</td>\n",
              "      <td>1</td>\n",
              "      <td>(15.5, 26.514]</td>\n",
              "      <td>2</td>\n",
              "    </tr>\n",
              "  </tbody>\n",
              "</table>\n",
              "</div>"
            ],
            "text/plain": [
              "    id  age  gender  income  spending_score  membership_years  \\\n",
              "0  1.0   38  Female   99342            90.0               3.0   \n",
              "1  2.0   21  Female   78852            60.0               2.0   \n",
              "2  3.0   60  Female  126573            30.0               2.0   \n",
              "3  4.0   40   Other   47099            74.0               9.0   \n",
              "4  5.0   65  Female  140621            21.0               3.0   \n",
              "\n",
              "   purchase_frequency preferred_category  last_purchase_amount  \\\n",
              "0                24.0          Groceries                113.53   \n",
              "1                42.0            Unknown                 41.93   \n",
              "2                28.0           Clothing                424.36   \n",
              "3                 5.0            Unknown                991.93   \n",
              "4                25.0        Electronics                347.08   \n",
              "\n",
              "             income_qcut  income_level   spending_qcut  spending_level  \\\n",
              "0    (92031.0, 115854.0]             3   (75.0, 100.0]               4   \n",
              "1     (60038.5, 92031.0]             2  (54.932, 75.0]               3   \n",
              "2  (115854.0, 1329680.0]             4  (27.0, 54.932]               2   \n",
              "3   (30003.999, 60038.5]             1  (54.932, 75.0]               3   \n",
              "4  (115854.0, 1329680.0]             4   (0.999, 27.0]               1   \n",
              "\n",
              "  purchase_frequency_qcut  purchase_frequency_level  \n",
              "0          (15.5, 26.514]                         2  \n",
              "1            (38.0, 50.0]                         4  \n",
              "2          (26.514, 38.0]                         3  \n",
              "3           (0.999, 15.5]                         1  \n",
              "4          (15.5, 26.514]                         2  "
            ]
          },
          "execution_count": 116,
          "metadata": {},
          "output_type": "execute_result"
        }
      ],
      "source": [
        "df.head()"
      ]
    },
    {
      "cell_type": "code",
      "execution_count": 117,
      "metadata": {
        "colab": {
          "base_uri": "https://localhost:8080/"
        },
        "id": "onCq8oLiV-lU",
        "outputId": "268af627-26ac-4b7c-d501-3140e88b081b"
      },
      "outputs": [
        {
          "data": {
            "text/plain": [
              "membership_years_qcut\n",
              "(0.999, 3.0]    285\n",
              "(5.46, 8.0]     258\n",
              "(3.0, 5.46]     254\n",
              "(8.0, 10.0]     194\n",
              "Name: count, dtype: int64"
            ]
          },
          "execution_count": 117,
          "metadata": {},
          "output_type": "execute_result"
        }
      ],
      "source": [
        "df['membership_years_qcut'] = pd.qcut(df['membership_years'], q=4, duplicates='drop')\n",
        "\n",
        "df['membership_years_qcut'].value_counts()"
      ]
    },
    {
      "cell_type": "code",
      "execution_count": 118,
      "metadata": {
        "id": "egaS2pecXq1u"
      },
      "outputs": [],
      "source": [
        "mapeamento_years = {\n",
        "    '(3.0, 5.46]':2,\n",
        "    '(0.999, 3.0]':1,\n",
        "    '(5.46, 8.0]':3,\n",
        "    '(8.0, 10.0]':4\n",
        "}\n",
        "\n",
        "\n",
        "df['membership_years_score'] = df['membership_years_qcut'].astype(str).map(mapeamento_years)"
      ]
    },
    {
      "cell_type": "code",
      "execution_count": 119,
      "metadata": {},
      "outputs": [
        {
          "data": {
            "text/plain": [
              "array([1, 4, 2, 3])"
            ]
          },
          "execution_count": 119,
          "metadata": {},
          "output_type": "execute_result"
        }
      ],
      "source": [
        "\n",
        "df['membership_years_score'].unique()"
      ]
    },
    {
      "cell_type": "code",
      "execution_count": 120,
      "metadata": {
        "colab": {
          "base_uri": "https://localhost:8080/",
          "height": 313
        },
        "id": "UzF3BrYnYEut",
        "outputId": "78876485-dfb9-4ff0-a369-2aeb027b0ca4"
      },
      "outputs": [
        {
          "data": {
            "text/html": [
              "<div>\n",
              "<style scoped>\n",
              "    .dataframe tbody tr th:only-of-type {\n",
              "        vertical-align: middle;\n",
              "    }\n",
              "\n",
              "    .dataframe tbody tr th {\n",
              "        vertical-align: top;\n",
              "    }\n",
              "\n",
              "    .dataframe thead th {\n",
              "        text-align: right;\n",
              "    }\n",
              "</style>\n",
              "<table border=\"1\" class=\"dataframe\">\n",
              "  <thead>\n",
              "    <tr style=\"text-align: right;\">\n",
              "      <th></th>\n",
              "      <th>id</th>\n",
              "      <th>age</th>\n",
              "      <th>gender</th>\n",
              "      <th>income</th>\n",
              "      <th>spending_score</th>\n",
              "      <th>membership_years</th>\n",
              "      <th>purchase_frequency</th>\n",
              "      <th>preferred_category</th>\n",
              "      <th>last_purchase_amount</th>\n",
              "      <th>income_qcut</th>\n",
              "      <th>income_level</th>\n",
              "      <th>spending_qcut</th>\n",
              "      <th>spending_level</th>\n",
              "      <th>purchase_frequency_qcut</th>\n",
              "      <th>purchase_frequency_level</th>\n",
              "      <th>membership_years_qcut</th>\n",
              "      <th>membership_years_score</th>\n",
              "    </tr>\n",
              "  </thead>\n",
              "  <tbody>\n",
              "    <tr>\n",
              "      <th>0</th>\n",
              "      <td>1.0</td>\n",
              "      <td>38</td>\n",
              "      <td>Female</td>\n",
              "      <td>99342</td>\n",
              "      <td>90.0</td>\n",
              "      <td>3.0</td>\n",
              "      <td>24.0</td>\n",
              "      <td>Groceries</td>\n",
              "      <td>113.53</td>\n",
              "      <td>(92031.0, 115854.0]</td>\n",
              "      <td>3</td>\n",
              "      <td>(75.0, 100.0]</td>\n",
              "      <td>4</td>\n",
              "      <td>(15.5, 26.514]</td>\n",
              "      <td>2</td>\n",
              "      <td>(0.999, 3.0]</td>\n",
              "      <td>1</td>\n",
              "    </tr>\n",
              "    <tr>\n",
              "      <th>1</th>\n",
              "      <td>2.0</td>\n",
              "      <td>21</td>\n",
              "      <td>Female</td>\n",
              "      <td>78852</td>\n",
              "      <td>60.0</td>\n",
              "      <td>2.0</td>\n",
              "      <td>42.0</td>\n",
              "      <td>Unknown</td>\n",
              "      <td>41.93</td>\n",
              "      <td>(60038.5, 92031.0]</td>\n",
              "      <td>2</td>\n",
              "      <td>(54.932, 75.0]</td>\n",
              "      <td>3</td>\n",
              "      <td>(38.0, 50.0]</td>\n",
              "      <td>4</td>\n",
              "      <td>(0.999, 3.0]</td>\n",
              "      <td>1</td>\n",
              "    </tr>\n",
              "    <tr>\n",
              "      <th>2</th>\n",
              "      <td>3.0</td>\n",
              "      <td>60</td>\n",
              "      <td>Female</td>\n",
              "      <td>126573</td>\n",
              "      <td>30.0</td>\n",
              "      <td>2.0</td>\n",
              "      <td>28.0</td>\n",
              "      <td>Clothing</td>\n",
              "      <td>424.36</td>\n",
              "      <td>(115854.0, 1329680.0]</td>\n",
              "      <td>4</td>\n",
              "      <td>(27.0, 54.932]</td>\n",
              "      <td>2</td>\n",
              "      <td>(26.514, 38.0]</td>\n",
              "      <td>3</td>\n",
              "      <td>(0.999, 3.0]</td>\n",
              "      <td>1</td>\n",
              "    </tr>\n",
              "    <tr>\n",
              "      <th>3</th>\n",
              "      <td>4.0</td>\n",
              "      <td>40</td>\n",
              "      <td>Other</td>\n",
              "      <td>47099</td>\n",
              "      <td>74.0</td>\n",
              "      <td>9.0</td>\n",
              "      <td>5.0</td>\n",
              "      <td>Unknown</td>\n",
              "      <td>991.93</td>\n",
              "      <td>(30003.999, 60038.5]</td>\n",
              "      <td>1</td>\n",
              "      <td>(54.932, 75.0]</td>\n",
              "      <td>3</td>\n",
              "      <td>(0.999, 15.5]</td>\n",
              "      <td>1</td>\n",
              "      <td>(8.0, 10.0]</td>\n",
              "      <td>4</td>\n",
              "    </tr>\n",
              "    <tr>\n",
              "      <th>4</th>\n",
              "      <td>5.0</td>\n",
              "      <td>65</td>\n",
              "      <td>Female</td>\n",
              "      <td>140621</td>\n",
              "      <td>21.0</td>\n",
              "      <td>3.0</td>\n",
              "      <td>25.0</td>\n",
              "      <td>Electronics</td>\n",
              "      <td>347.08</td>\n",
              "      <td>(115854.0, 1329680.0]</td>\n",
              "      <td>4</td>\n",
              "      <td>(0.999, 27.0]</td>\n",
              "      <td>1</td>\n",
              "      <td>(15.5, 26.514]</td>\n",
              "      <td>2</td>\n",
              "      <td>(0.999, 3.0]</td>\n",
              "      <td>1</td>\n",
              "    </tr>\n",
              "  </tbody>\n",
              "</table>\n",
              "</div>"
            ],
            "text/plain": [
              "    id  age  gender  income  spending_score  membership_years  \\\n",
              "0  1.0   38  Female   99342            90.0               3.0   \n",
              "1  2.0   21  Female   78852            60.0               2.0   \n",
              "2  3.0   60  Female  126573            30.0               2.0   \n",
              "3  4.0   40   Other   47099            74.0               9.0   \n",
              "4  5.0   65  Female  140621            21.0               3.0   \n",
              "\n",
              "   purchase_frequency preferred_category  last_purchase_amount  \\\n",
              "0                24.0          Groceries                113.53   \n",
              "1                42.0            Unknown                 41.93   \n",
              "2                28.0           Clothing                424.36   \n",
              "3                 5.0            Unknown                991.93   \n",
              "4                25.0        Electronics                347.08   \n",
              "\n",
              "             income_qcut  income_level   spending_qcut  spending_level  \\\n",
              "0    (92031.0, 115854.0]             3   (75.0, 100.0]               4   \n",
              "1     (60038.5, 92031.0]             2  (54.932, 75.0]               3   \n",
              "2  (115854.0, 1329680.0]             4  (27.0, 54.932]               2   \n",
              "3   (30003.999, 60038.5]             1  (54.932, 75.0]               3   \n",
              "4  (115854.0, 1329680.0]             4   (0.999, 27.0]               1   \n",
              "\n",
              "  purchase_frequency_qcut  purchase_frequency_level membership_years_qcut  \\\n",
              "0          (15.5, 26.514]                         2          (0.999, 3.0]   \n",
              "1            (38.0, 50.0]                         4          (0.999, 3.0]   \n",
              "2          (26.514, 38.0]                         3          (0.999, 3.0]   \n",
              "3           (0.999, 15.5]                         1           (8.0, 10.0]   \n",
              "4          (15.5, 26.514]                         2          (0.999, 3.0]   \n",
              "\n",
              "   membership_years_score  \n",
              "0                       1  \n",
              "1                       1  \n",
              "2                       1  \n",
              "3                       4  \n",
              "4                       1  "
            ]
          },
          "execution_count": 120,
          "metadata": {},
          "output_type": "execute_result"
        }
      ],
      "source": [
        "df.head()"
      ]
    },
    {
      "cell_type": "code",
      "execution_count": 121,
      "metadata": {
        "colab": {
          "base_uri": "https://localhost:8080/"
        },
        "id": "2lbbkAXlYIxV",
        "outputId": "ff2ed9cb-05fb-4974-b426-3be8b7330f11"
      },
      "outputs": [
        {
          "data": {
            "text/plain": [
              "last_purchase_amount_qcut\n",
              "(232.75, 492.32]                274\n",
              "(10.399000000000001, 232.75]    248\n",
              "(736.37, 998.98]                248\n",
              "(492.32, 736.37]                221\n",
              "Name: count, dtype: int64"
            ]
          },
          "execution_count": 121,
          "metadata": {},
          "output_type": "execute_result"
        }
      ],
      "source": [
        "df['last_purchase_amount_qcut'] = pd.qcut(df['last_purchase_amount'], q=4, duplicates='drop')\n",
        "\n",
        "df['last_purchase_amount_qcut'].value_counts()"
      ]
    },
    {
      "cell_type": "code",
      "execution_count": 122,
      "metadata": {
        "id": "Zh6mz8TbYQD0"
      },
      "outputs": [],
      "source": [
        "mapeamento_amount = {\n",
        "    '(232.75, 492.32]':2,\n",
        "    '(10.399000000000001, 232.75]': 1,\n",
        "    '(492.32, 736.37]': 3,\n",
        "    '(736.37, 998.98]':4\n",
        "}\n",
        "\n",
        "\n",
        "df['last_purchase_amount_score'] = df['last_purchase_amount_qcut'].astype(str).map(mapeamento_amount)"
      ]
    },
    {
      "cell_type": "code",
      "execution_count": 123,
      "metadata": {
        "colab": {
          "base_uri": "https://localhost:8080/",
          "height": 313
        },
        "id": "S-zlK-aCYrEa",
        "outputId": "5ffcca05-1c84-4530-d63c-04a28957b128"
      },
      "outputs": [
        {
          "data": {
            "text/html": [
              "<div>\n",
              "<style scoped>\n",
              "    .dataframe tbody tr th:only-of-type {\n",
              "        vertical-align: middle;\n",
              "    }\n",
              "\n",
              "    .dataframe tbody tr th {\n",
              "        vertical-align: top;\n",
              "    }\n",
              "\n",
              "    .dataframe thead th {\n",
              "        text-align: right;\n",
              "    }\n",
              "</style>\n",
              "<table border=\"1\" class=\"dataframe\">\n",
              "  <thead>\n",
              "    <tr style=\"text-align: right;\">\n",
              "      <th></th>\n",
              "      <th>id</th>\n",
              "      <th>age</th>\n",
              "      <th>gender</th>\n",
              "      <th>income</th>\n",
              "      <th>spending_score</th>\n",
              "      <th>membership_years</th>\n",
              "      <th>purchase_frequency</th>\n",
              "      <th>preferred_category</th>\n",
              "      <th>last_purchase_amount</th>\n",
              "      <th>income_qcut</th>\n",
              "      <th>income_level</th>\n",
              "      <th>spending_qcut</th>\n",
              "      <th>spending_level</th>\n",
              "      <th>purchase_frequency_qcut</th>\n",
              "      <th>purchase_frequency_level</th>\n",
              "      <th>membership_years_qcut</th>\n",
              "      <th>membership_years_score</th>\n",
              "      <th>last_purchase_amount_qcut</th>\n",
              "      <th>last_purchase_amount_score</th>\n",
              "    </tr>\n",
              "  </thead>\n",
              "  <tbody>\n",
              "    <tr>\n",
              "      <th>0</th>\n",
              "      <td>1.0</td>\n",
              "      <td>38</td>\n",
              "      <td>Female</td>\n",
              "      <td>99342</td>\n",
              "      <td>90.0</td>\n",
              "      <td>3.0</td>\n",
              "      <td>24.0</td>\n",
              "      <td>Groceries</td>\n",
              "      <td>113.53</td>\n",
              "      <td>(92031.0, 115854.0]</td>\n",
              "      <td>3</td>\n",
              "      <td>(75.0, 100.0]</td>\n",
              "      <td>4</td>\n",
              "      <td>(15.5, 26.514]</td>\n",
              "      <td>2</td>\n",
              "      <td>(0.999, 3.0]</td>\n",
              "      <td>1</td>\n",
              "      <td>(10.399000000000001, 232.75]</td>\n",
              "      <td>1</td>\n",
              "    </tr>\n",
              "    <tr>\n",
              "      <th>1</th>\n",
              "      <td>2.0</td>\n",
              "      <td>21</td>\n",
              "      <td>Female</td>\n",
              "      <td>78852</td>\n",
              "      <td>60.0</td>\n",
              "      <td>2.0</td>\n",
              "      <td>42.0</td>\n",
              "      <td>Unknown</td>\n",
              "      <td>41.93</td>\n",
              "      <td>(60038.5, 92031.0]</td>\n",
              "      <td>2</td>\n",
              "      <td>(54.932, 75.0]</td>\n",
              "      <td>3</td>\n",
              "      <td>(38.0, 50.0]</td>\n",
              "      <td>4</td>\n",
              "      <td>(0.999, 3.0]</td>\n",
              "      <td>1</td>\n",
              "      <td>(10.399000000000001, 232.75]</td>\n",
              "      <td>1</td>\n",
              "    </tr>\n",
              "    <tr>\n",
              "      <th>2</th>\n",
              "      <td>3.0</td>\n",
              "      <td>60</td>\n",
              "      <td>Female</td>\n",
              "      <td>126573</td>\n",
              "      <td>30.0</td>\n",
              "      <td>2.0</td>\n",
              "      <td>28.0</td>\n",
              "      <td>Clothing</td>\n",
              "      <td>424.36</td>\n",
              "      <td>(115854.0, 1329680.0]</td>\n",
              "      <td>4</td>\n",
              "      <td>(27.0, 54.932]</td>\n",
              "      <td>2</td>\n",
              "      <td>(26.514, 38.0]</td>\n",
              "      <td>3</td>\n",
              "      <td>(0.999, 3.0]</td>\n",
              "      <td>1</td>\n",
              "      <td>(232.75, 492.32]</td>\n",
              "      <td>2</td>\n",
              "    </tr>\n",
              "    <tr>\n",
              "      <th>3</th>\n",
              "      <td>4.0</td>\n",
              "      <td>40</td>\n",
              "      <td>Other</td>\n",
              "      <td>47099</td>\n",
              "      <td>74.0</td>\n",
              "      <td>9.0</td>\n",
              "      <td>5.0</td>\n",
              "      <td>Unknown</td>\n",
              "      <td>991.93</td>\n",
              "      <td>(30003.999, 60038.5]</td>\n",
              "      <td>1</td>\n",
              "      <td>(54.932, 75.0]</td>\n",
              "      <td>3</td>\n",
              "      <td>(0.999, 15.5]</td>\n",
              "      <td>1</td>\n",
              "      <td>(8.0, 10.0]</td>\n",
              "      <td>4</td>\n",
              "      <td>(736.37, 998.98]</td>\n",
              "      <td>4</td>\n",
              "    </tr>\n",
              "    <tr>\n",
              "      <th>4</th>\n",
              "      <td>5.0</td>\n",
              "      <td>65</td>\n",
              "      <td>Female</td>\n",
              "      <td>140621</td>\n",
              "      <td>21.0</td>\n",
              "      <td>3.0</td>\n",
              "      <td>25.0</td>\n",
              "      <td>Electronics</td>\n",
              "      <td>347.08</td>\n",
              "      <td>(115854.0, 1329680.0]</td>\n",
              "      <td>4</td>\n",
              "      <td>(0.999, 27.0]</td>\n",
              "      <td>1</td>\n",
              "      <td>(15.5, 26.514]</td>\n",
              "      <td>2</td>\n",
              "      <td>(0.999, 3.0]</td>\n",
              "      <td>1</td>\n",
              "      <td>(232.75, 492.32]</td>\n",
              "      <td>2</td>\n",
              "    </tr>\n",
              "  </tbody>\n",
              "</table>\n",
              "</div>"
            ],
            "text/plain": [
              "    id  age  gender  income  spending_score  membership_years  \\\n",
              "0  1.0   38  Female   99342            90.0               3.0   \n",
              "1  2.0   21  Female   78852            60.0               2.0   \n",
              "2  3.0   60  Female  126573            30.0               2.0   \n",
              "3  4.0   40   Other   47099            74.0               9.0   \n",
              "4  5.0   65  Female  140621            21.0               3.0   \n",
              "\n",
              "   purchase_frequency preferred_category  last_purchase_amount  \\\n",
              "0                24.0          Groceries                113.53   \n",
              "1                42.0            Unknown                 41.93   \n",
              "2                28.0           Clothing                424.36   \n",
              "3                 5.0            Unknown                991.93   \n",
              "4                25.0        Electronics                347.08   \n",
              "\n",
              "             income_qcut  income_level   spending_qcut  spending_level  \\\n",
              "0    (92031.0, 115854.0]             3   (75.0, 100.0]               4   \n",
              "1     (60038.5, 92031.0]             2  (54.932, 75.0]               3   \n",
              "2  (115854.0, 1329680.0]             4  (27.0, 54.932]               2   \n",
              "3   (30003.999, 60038.5]             1  (54.932, 75.0]               3   \n",
              "4  (115854.0, 1329680.0]             4   (0.999, 27.0]               1   \n",
              "\n",
              "  purchase_frequency_qcut  purchase_frequency_level membership_years_qcut  \\\n",
              "0          (15.5, 26.514]                         2          (0.999, 3.0]   \n",
              "1            (38.0, 50.0]                         4          (0.999, 3.0]   \n",
              "2          (26.514, 38.0]                         3          (0.999, 3.0]   \n",
              "3           (0.999, 15.5]                         1           (8.0, 10.0]   \n",
              "4          (15.5, 26.514]                         2          (0.999, 3.0]   \n",
              "\n",
              "   membership_years_score     last_purchase_amount_qcut  \\\n",
              "0                       1  (10.399000000000001, 232.75]   \n",
              "1                       1  (10.399000000000001, 232.75]   \n",
              "2                       1              (232.75, 492.32]   \n",
              "3                       4              (736.37, 998.98]   \n",
              "4                       1              (232.75, 492.32]   \n",
              "\n",
              "   last_purchase_amount_score  \n",
              "0                           1  \n",
              "1                           1  \n",
              "2                           2  \n",
              "3                           4  \n",
              "4                           2  "
            ]
          },
          "execution_count": 123,
          "metadata": {},
          "output_type": "execute_result"
        }
      ],
      "source": [
        "df.head()"
      ]
    },
    {
      "cell_type": "code",
      "execution_count": 124,
      "metadata": {
        "id": "4u6c0ZPzb_J_"
      },
      "outputs": [],
      "source": [
        "df['score_final'] = df['income_level'] + df['spending_level'] + df['purchase_frequency_level'] + df['membership_years_score'] + df['last_purchase_amount_score']"
      ]
    },
    {
      "cell_type": "code",
      "execution_count": 125,
      "metadata": {
        "colab": {
          "base_uri": "https://localhost:8080/",
          "height": 313
        },
        "id": "uooOddzOcE42",
        "outputId": "13e0dcae-1825-4530-82b6-5f91e87bf5ad"
      },
      "outputs": [
        {
          "data": {
            "text/html": [
              "<div>\n",
              "<style scoped>\n",
              "    .dataframe tbody tr th:only-of-type {\n",
              "        vertical-align: middle;\n",
              "    }\n",
              "\n",
              "    .dataframe tbody tr th {\n",
              "        vertical-align: top;\n",
              "    }\n",
              "\n",
              "    .dataframe thead th {\n",
              "        text-align: right;\n",
              "    }\n",
              "</style>\n",
              "<table border=\"1\" class=\"dataframe\">\n",
              "  <thead>\n",
              "    <tr style=\"text-align: right;\">\n",
              "      <th></th>\n",
              "      <th>id</th>\n",
              "      <th>age</th>\n",
              "      <th>gender</th>\n",
              "      <th>income</th>\n",
              "      <th>spending_score</th>\n",
              "      <th>membership_years</th>\n",
              "      <th>purchase_frequency</th>\n",
              "      <th>preferred_category</th>\n",
              "      <th>last_purchase_amount</th>\n",
              "      <th>income_qcut</th>\n",
              "      <th>income_level</th>\n",
              "      <th>spending_qcut</th>\n",
              "      <th>spending_level</th>\n",
              "      <th>purchase_frequency_qcut</th>\n",
              "      <th>purchase_frequency_level</th>\n",
              "      <th>membership_years_qcut</th>\n",
              "      <th>membership_years_score</th>\n",
              "      <th>last_purchase_amount_qcut</th>\n",
              "      <th>last_purchase_amount_score</th>\n",
              "      <th>score_final</th>\n",
              "    </tr>\n",
              "  </thead>\n",
              "  <tbody>\n",
              "    <tr>\n",
              "      <th>0</th>\n",
              "      <td>1.0</td>\n",
              "      <td>38</td>\n",
              "      <td>Female</td>\n",
              "      <td>99342</td>\n",
              "      <td>90.0</td>\n",
              "      <td>3.0</td>\n",
              "      <td>24.0</td>\n",
              "      <td>Groceries</td>\n",
              "      <td>113.53</td>\n",
              "      <td>(92031.0, 115854.0]</td>\n",
              "      <td>3</td>\n",
              "      <td>(75.0, 100.0]</td>\n",
              "      <td>4</td>\n",
              "      <td>(15.5, 26.514]</td>\n",
              "      <td>2</td>\n",
              "      <td>(0.999, 3.0]</td>\n",
              "      <td>1</td>\n",
              "      <td>(10.399000000000001, 232.75]</td>\n",
              "      <td>1</td>\n",
              "      <td>11</td>\n",
              "    </tr>\n",
              "    <tr>\n",
              "      <th>1</th>\n",
              "      <td>2.0</td>\n",
              "      <td>21</td>\n",
              "      <td>Female</td>\n",
              "      <td>78852</td>\n",
              "      <td>60.0</td>\n",
              "      <td>2.0</td>\n",
              "      <td>42.0</td>\n",
              "      <td>Unknown</td>\n",
              "      <td>41.93</td>\n",
              "      <td>(60038.5, 92031.0]</td>\n",
              "      <td>2</td>\n",
              "      <td>(54.932, 75.0]</td>\n",
              "      <td>3</td>\n",
              "      <td>(38.0, 50.0]</td>\n",
              "      <td>4</td>\n",
              "      <td>(0.999, 3.0]</td>\n",
              "      <td>1</td>\n",
              "      <td>(10.399000000000001, 232.75]</td>\n",
              "      <td>1</td>\n",
              "      <td>11</td>\n",
              "    </tr>\n",
              "    <tr>\n",
              "      <th>2</th>\n",
              "      <td>3.0</td>\n",
              "      <td>60</td>\n",
              "      <td>Female</td>\n",
              "      <td>126573</td>\n",
              "      <td>30.0</td>\n",
              "      <td>2.0</td>\n",
              "      <td>28.0</td>\n",
              "      <td>Clothing</td>\n",
              "      <td>424.36</td>\n",
              "      <td>(115854.0, 1329680.0]</td>\n",
              "      <td>4</td>\n",
              "      <td>(27.0, 54.932]</td>\n",
              "      <td>2</td>\n",
              "      <td>(26.514, 38.0]</td>\n",
              "      <td>3</td>\n",
              "      <td>(0.999, 3.0]</td>\n",
              "      <td>1</td>\n",
              "      <td>(232.75, 492.32]</td>\n",
              "      <td>2</td>\n",
              "      <td>12</td>\n",
              "    </tr>\n",
              "    <tr>\n",
              "      <th>3</th>\n",
              "      <td>4.0</td>\n",
              "      <td>40</td>\n",
              "      <td>Other</td>\n",
              "      <td>47099</td>\n",
              "      <td>74.0</td>\n",
              "      <td>9.0</td>\n",
              "      <td>5.0</td>\n",
              "      <td>Unknown</td>\n",
              "      <td>991.93</td>\n",
              "      <td>(30003.999, 60038.5]</td>\n",
              "      <td>1</td>\n",
              "      <td>(54.932, 75.0]</td>\n",
              "      <td>3</td>\n",
              "      <td>(0.999, 15.5]</td>\n",
              "      <td>1</td>\n",
              "      <td>(8.0, 10.0]</td>\n",
              "      <td>4</td>\n",
              "      <td>(736.37, 998.98]</td>\n",
              "      <td>4</td>\n",
              "      <td>13</td>\n",
              "    </tr>\n",
              "    <tr>\n",
              "      <th>4</th>\n",
              "      <td>5.0</td>\n",
              "      <td>65</td>\n",
              "      <td>Female</td>\n",
              "      <td>140621</td>\n",
              "      <td>21.0</td>\n",
              "      <td>3.0</td>\n",
              "      <td>25.0</td>\n",
              "      <td>Electronics</td>\n",
              "      <td>347.08</td>\n",
              "      <td>(115854.0, 1329680.0]</td>\n",
              "      <td>4</td>\n",
              "      <td>(0.999, 27.0]</td>\n",
              "      <td>1</td>\n",
              "      <td>(15.5, 26.514]</td>\n",
              "      <td>2</td>\n",
              "      <td>(0.999, 3.0]</td>\n",
              "      <td>1</td>\n",
              "      <td>(232.75, 492.32]</td>\n",
              "      <td>2</td>\n",
              "      <td>10</td>\n",
              "    </tr>\n",
              "  </tbody>\n",
              "</table>\n",
              "</div>"
            ],
            "text/plain": [
              "    id  age  gender  income  spending_score  membership_years  \\\n",
              "0  1.0   38  Female   99342            90.0               3.0   \n",
              "1  2.0   21  Female   78852            60.0               2.0   \n",
              "2  3.0   60  Female  126573            30.0               2.0   \n",
              "3  4.0   40   Other   47099            74.0               9.0   \n",
              "4  5.0   65  Female  140621            21.0               3.0   \n",
              "\n",
              "   purchase_frequency preferred_category  last_purchase_amount  \\\n",
              "0                24.0          Groceries                113.53   \n",
              "1                42.0            Unknown                 41.93   \n",
              "2                28.0           Clothing                424.36   \n",
              "3                 5.0            Unknown                991.93   \n",
              "4                25.0        Electronics                347.08   \n",
              "\n",
              "             income_qcut  income_level   spending_qcut  spending_level  \\\n",
              "0    (92031.0, 115854.0]             3   (75.0, 100.0]               4   \n",
              "1     (60038.5, 92031.0]             2  (54.932, 75.0]               3   \n",
              "2  (115854.0, 1329680.0]             4  (27.0, 54.932]               2   \n",
              "3   (30003.999, 60038.5]             1  (54.932, 75.0]               3   \n",
              "4  (115854.0, 1329680.0]             4   (0.999, 27.0]               1   \n",
              "\n",
              "  purchase_frequency_qcut  purchase_frequency_level membership_years_qcut  \\\n",
              "0          (15.5, 26.514]                         2          (0.999, 3.0]   \n",
              "1            (38.0, 50.0]                         4          (0.999, 3.0]   \n",
              "2          (26.514, 38.0]                         3          (0.999, 3.0]   \n",
              "3           (0.999, 15.5]                         1           (8.0, 10.0]   \n",
              "4          (15.5, 26.514]                         2          (0.999, 3.0]   \n",
              "\n",
              "   membership_years_score     last_purchase_amount_qcut  \\\n",
              "0                       1  (10.399000000000001, 232.75]   \n",
              "1                       1  (10.399000000000001, 232.75]   \n",
              "2                       1              (232.75, 492.32]   \n",
              "3                       4              (736.37, 998.98]   \n",
              "4                       1              (232.75, 492.32]   \n",
              "\n",
              "   last_purchase_amount_score  score_final  \n",
              "0                           1           11  \n",
              "1                           1           11  \n",
              "2                           2           12  \n",
              "3                           4           13  \n",
              "4                           2           10  "
            ]
          },
          "execution_count": 125,
          "metadata": {},
          "output_type": "execute_result"
        }
      ],
      "source": [
        "df.head()"
      ]
    },
    {
      "cell_type": "code",
      "execution_count": 126,
      "metadata": {
        "id": "JJq8jiHZcIFd"
      },
      "outputs": [],
      "source": [
        " df['score_final_qcut'] = pd.qcut(df['score_final'], q=3, duplicates='drop')"
      ]
    },
    {
      "cell_type": "code",
      "execution_count": 127,
      "metadata": {
        "colab": {
          "base_uri": "https://localhost:8080/"
        },
        "id": "dNZ6OIMycR82",
        "outputId": "fa7474c7-8f13-457a-ad14-ac4424684092"
      },
      "outputs": [
        {
          "data": {
            "text/plain": [
              "score_final_qcut\n",
              "(5.999, 11.0]    399\n",
              "(13.0, 20.0]     299\n",
              "(11.0, 13.0]     293\n",
              "Name: count, dtype: int64"
            ]
          },
          "execution_count": 127,
          "metadata": {},
          "output_type": "execute_result"
        }
      ],
      "source": [
        " df['score_final_qcut'].value_counts()"
      ]
    },
    {
      "cell_type": "code",
      "execution_count": 128,
      "metadata": {
        "colab": {
          "base_uri": "https://localhost:8080/"
        },
        "id": "AJDPEVnvcav_",
        "outputId": "c4fb19ef-8d06-4635-a74f-758b5342f1cb"
      },
      "outputs": [
        {
          "name": "stdout",
          "output_type": "stream",
          "text": [
            "4\n",
            "4\n",
            "4\n",
            "4\n",
            "4\n"
          ]
        }
      ],
      "source": [
        "print( df['income_level'].max())\n",
        "print(df['spending_level'].max())\n",
        "print( df['purchase_frequency_level'].max())\n",
        "print(df['membership_years_score'].max())\n",
        "print(df['last_purchase_amount_score'].max())"
      ]
    },
    {
      "cell_type": "code",
      "execution_count": 129,
      "metadata": {},
      "outputs": [
        {
          "name": "stdout",
          "output_type": "stream",
          "text": [
            "<class 'pandas.core.frame.DataFrame'>\n",
            "Index: 991 entries, 0 to 999\n",
            "Data columns (total 21 columns):\n",
            " #   Column                      Non-Null Count  Dtype   \n",
            "---  ------                      --------------  -----   \n",
            " 0   id                          991 non-null    object  \n",
            " 1   age                         991 non-null    int64   \n",
            " 2   gender                      991 non-null    object  \n",
            " 3   income                      991 non-null    int64   \n",
            " 4   spending_score              991 non-null    float64 \n",
            " 5   membership_years            991 non-null    float64 \n",
            " 6   purchase_frequency          991 non-null    float64 \n",
            " 7   preferred_category          991 non-null    object  \n",
            " 8   last_purchase_amount        991 non-null    float64 \n",
            " 9   income_qcut                 991 non-null    category\n",
            " 10  income_level                991 non-null    int64   \n",
            " 11  spending_qcut               991 non-null    category\n",
            " 12  spending_level              991 non-null    int64   \n",
            " 13  purchase_frequency_qcut     991 non-null    category\n",
            " 14  purchase_frequency_level    991 non-null    int64   \n",
            " 15  membership_years_qcut       991 non-null    category\n",
            " 16  membership_years_score      991 non-null    int64   \n",
            " 17  last_purchase_amount_qcut   991 non-null    category\n",
            " 18  last_purchase_amount_score  991 non-null    int64   \n",
            " 19  score_final                 991 non-null    int64   \n",
            " 20  score_final_qcut            991 non-null    category\n",
            "dtypes: category(6), float64(4), int64(8), object(3)\n",
            "memory usage: 131.0+ KB\n"
          ]
        }
      ],
      "source": [
        "df.info()"
      ]
    },
    {
      "cell_type": "code",
      "execution_count": 130,
      "metadata": {},
      "outputs": [
        {
          "data": {
            "text/plain": [
              "score_final_qcut\n",
              "(5.999, 11.0]    399\n",
              "(13.0, 20.0]     299\n",
              "(11.0, 13.0]     293\n",
              "Name: count, dtype: int64"
            ]
          },
          "execution_count": 130,
          "metadata": {},
          "output_type": "execute_result"
        }
      ],
      "source": [
        "df['score_final_qcut'].value_counts()"
      ]
    },
    {
      "cell_type": "code",
      "execution_count": 131,
      "metadata": {
        "id": "GwdldshZcu9d"
      },
      "outputs": [],
      "source": [
        "mapeamento_score = {\n",
        "    '(5.999, 11.0]': 'bronze',\n",
        "    '(11.0, 13.0]': 'prata',\n",
        "    '(13.0, 20.0]':'ouro'\n",
        "}\n",
        "\n",
        "\n",
        "df['categoria_cliente'] = df['score_final_qcut'].astype(str).map(mapeamento_score)"
      ]
    },
    {
      "cell_type": "code",
      "execution_count": 132,
      "metadata": {},
      "outputs": [
        {
          "data": {
            "text/plain": [
              "array([11, 12, 13, 10,  7, 17, 14, 16,  8,  9, 15, 20, 18,  6, 19])"
            ]
          },
          "execution_count": 132,
          "metadata": {},
          "output_type": "execute_result"
        }
      ],
      "source": [
        "df['score_final'].unique()"
      ]
    },
    {
      "cell_type": "markdown",
      "metadata": {
        "id": "Xdih4NGjkF76"
      },
      "source": [
        "# Segmentação Pronta"
      ]
    },
    {
      "cell_type": "code",
      "execution_count": 133,
      "metadata": {},
      "outputs": [
        {
          "name": "stdout",
          "output_type": "stream",
          "text": [
            "<class 'pandas.core.frame.DataFrame'>\n",
            "Index: 991 entries, 0 to 999\n",
            "Data columns (total 22 columns):\n",
            " #   Column                      Non-Null Count  Dtype   \n",
            "---  ------                      --------------  -----   \n",
            " 0   id                          991 non-null    object  \n",
            " 1   age                         991 non-null    int64   \n",
            " 2   gender                      991 non-null    object  \n",
            " 3   income                      991 non-null    int64   \n",
            " 4   spending_score              991 non-null    float64 \n",
            " 5   membership_years            991 non-null    float64 \n",
            " 6   purchase_frequency          991 non-null    float64 \n",
            " 7   preferred_category          991 non-null    object  \n",
            " 8   last_purchase_amount        991 non-null    float64 \n",
            " 9   income_qcut                 991 non-null    category\n",
            " 10  income_level                991 non-null    int64   \n",
            " 11  spending_qcut               991 non-null    category\n",
            " 12  spending_level              991 non-null    int64   \n",
            " 13  purchase_frequency_qcut     991 non-null    category\n",
            " 14  purchase_frequency_level    991 non-null    int64   \n",
            " 15  membership_years_qcut       991 non-null    category\n",
            " 16  membership_years_score      991 non-null    int64   \n",
            " 17  last_purchase_amount_qcut   991 non-null    category\n",
            " 18  last_purchase_amount_score  991 non-null    int64   \n",
            " 19  score_final                 991 non-null    int64   \n",
            " 20  score_final_qcut            991 non-null    category\n",
            " 21  categoria_cliente           991 non-null    object  \n",
            "dtypes: category(6), float64(4), int64(8), object(4)\n",
            "memory usage: 138.7+ KB\n"
          ]
        }
      ],
      "source": [
        "df.info()"
      ]
    },
    {
      "cell_type": "code",
      "execution_count": 134,
      "metadata": {
        "colab": {
          "base_uri": "https://localhost:8080/",
          "height": 342
        },
        "id": "lS4xkoqqdVRW",
        "outputId": "a231d8b7-1eae-47cd-9d59-73df09bf53e7"
      },
      "outputs": [
        {
          "data": {
            "text/html": [
              "<div>\n",
              "<style scoped>\n",
              "    .dataframe tbody tr th:only-of-type {\n",
              "        vertical-align: middle;\n",
              "    }\n",
              "\n",
              "    .dataframe tbody tr th {\n",
              "        vertical-align: top;\n",
              "    }\n",
              "\n",
              "    .dataframe thead th {\n",
              "        text-align: right;\n",
              "    }\n",
              "</style>\n",
              "<table border=\"1\" class=\"dataframe\">\n",
              "  <thead>\n",
              "    <tr style=\"text-align: right;\">\n",
              "      <th></th>\n",
              "      <th>id</th>\n",
              "      <th>age</th>\n",
              "      <th>gender</th>\n",
              "      <th>income</th>\n",
              "      <th>spending_score</th>\n",
              "      <th>membership_years</th>\n",
              "      <th>purchase_frequency</th>\n",
              "      <th>preferred_category</th>\n",
              "      <th>last_purchase_amount</th>\n",
              "      <th>income_qcut</th>\n",
              "      <th>...</th>\n",
              "      <th>spending_level</th>\n",
              "      <th>purchase_frequency_qcut</th>\n",
              "      <th>purchase_frequency_level</th>\n",
              "      <th>membership_years_qcut</th>\n",
              "      <th>membership_years_score</th>\n",
              "      <th>last_purchase_amount_qcut</th>\n",
              "      <th>last_purchase_amount_score</th>\n",
              "      <th>score_final</th>\n",
              "      <th>score_final_qcut</th>\n",
              "      <th>categoria_cliente</th>\n",
              "    </tr>\n",
              "  </thead>\n",
              "  <tbody>\n",
              "    <tr>\n",
              "      <th>0</th>\n",
              "      <td>1.0</td>\n",
              "      <td>38</td>\n",
              "      <td>Female</td>\n",
              "      <td>99342</td>\n",
              "      <td>90.0</td>\n",
              "      <td>3.0</td>\n",
              "      <td>24.0</td>\n",
              "      <td>Groceries</td>\n",
              "      <td>113.53</td>\n",
              "      <td>(92031.0, 115854.0]</td>\n",
              "      <td>...</td>\n",
              "      <td>4</td>\n",
              "      <td>(15.5, 26.514]</td>\n",
              "      <td>2</td>\n",
              "      <td>(0.999, 3.0]</td>\n",
              "      <td>1</td>\n",
              "      <td>(10.399000000000001, 232.75]</td>\n",
              "      <td>1</td>\n",
              "      <td>11</td>\n",
              "      <td>(5.999, 11.0]</td>\n",
              "      <td>bronze</td>\n",
              "    </tr>\n",
              "    <tr>\n",
              "      <th>1</th>\n",
              "      <td>2.0</td>\n",
              "      <td>21</td>\n",
              "      <td>Female</td>\n",
              "      <td>78852</td>\n",
              "      <td>60.0</td>\n",
              "      <td>2.0</td>\n",
              "      <td>42.0</td>\n",
              "      <td>Unknown</td>\n",
              "      <td>41.93</td>\n",
              "      <td>(60038.5, 92031.0]</td>\n",
              "      <td>...</td>\n",
              "      <td>3</td>\n",
              "      <td>(38.0, 50.0]</td>\n",
              "      <td>4</td>\n",
              "      <td>(0.999, 3.0]</td>\n",
              "      <td>1</td>\n",
              "      <td>(10.399000000000001, 232.75]</td>\n",
              "      <td>1</td>\n",
              "      <td>11</td>\n",
              "      <td>(5.999, 11.0]</td>\n",
              "      <td>bronze</td>\n",
              "    </tr>\n",
              "    <tr>\n",
              "      <th>2</th>\n",
              "      <td>3.0</td>\n",
              "      <td>60</td>\n",
              "      <td>Female</td>\n",
              "      <td>126573</td>\n",
              "      <td>30.0</td>\n",
              "      <td>2.0</td>\n",
              "      <td>28.0</td>\n",
              "      <td>Clothing</td>\n",
              "      <td>424.36</td>\n",
              "      <td>(115854.0, 1329680.0]</td>\n",
              "      <td>...</td>\n",
              "      <td>2</td>\n",
              "      <td>(26.514, 38.0]</td>\n",
              "      <td>3</td>\n",
              "      <td>(0.999, 3.0]</td>\n",
              "      <td>1</td>\n",
              "      <td>(232.75, 492.32]</td>\n",
              "      <td>2</td>\n",
              "      <td>12</td>\n",
              "      <td>(11.0, 13.0]</td>\n",
              "      <td>prata</td>\n",
              "    </tr>\n",
              "    <tr>\n",
              "      <th>3</th>\n",
              "      <td>4.0</td>\n",
              "      <td>40</td>\n",
              "      <td>Other</td>\n",
              "      <td>47099</td>\n",
              "      <td>74.0</td>\n",
              "      <td>9.0</td>\n",
              "      <td>5.0</td>\n",
              "      <td>Unknown</td>\n",
              "      <td>991.93</td>\n",
              "      <td>(30003.999, 60038.5]</td>\n",
              "      <td>...</td>\n",
              "      <td>3</td>\n",
              "      <td>(0.999, 15.5]</td>\n",
              "      <td>1</td>\n",
              "      <td>(8.0, 10.0]</td>\n",
              "      <td>4</td>\n",
              "      <td>(736.37, 998.98]</td>\n",
              "      <td>4</td>\n",
              "      <td>13</td>\n",
              "      <td>(11.0, 13.0]</td>\n",
              "      <td>prata</td>\n",
              "    </tr>\n",
              "    <tr>\n",
              "      <th>4</th>\n",
              "      <td>5.0</td>\n",
              "      <td>65</td>\n",
              "      <td>Female</td>\n",
              "      <td>140621</td>\n",
              "      <td>21.0</td>\n",
              "      <td>3.0</td>\n",
              "      <td>25.0</td>\n",
              "      <td>Electronics</td>\n",
              "      <td>347.08</td>\n",
              "      <td>(115854.0, 1329680.0]</td>\n",
              "      <td>...</td>\n",
              "      <td>1</td>\n",
              "      <td>(15.5, 26.514]</td>\n",
              "      <td>2</td>\n",
              "      <td>(0.999, 3.0]</td>\n",
              "      <td>1</td>\n",
              "      <td>(232.75, 492.32]</td>\n",
              "      <td>2</td>\n",
              "      <td>10</td>\n",
              "      <td>(5.999, 11.0]</td>\n",
              "      <td>bronze</td>\n",
              "    </tr>\n",
              "  </tbody>\n",
              "</table>\n",
              "<p>5 rows × 22 columns</p>\n",
              "</div>"
            ],
            "text/plain": [
              "    id  age  gender  income  spending_score  membership_years  \\\n",
              "0  1.0   38  Female   99342            90.0               3.0   \n",
              "1  2.0   21  Female   78852            60.0               2.0   \n",
              "2  3.0   60  Female  126573            30.0               2.0   \n",
              "3  4.0   40   Other   47099            74.0               9.0   \n",
              "4  5.0   65  Female  140621            21.0               3.0   \n",
              "\n",
              "   purchase_frequency preferred_category  last_purchase_amount  \\\n",
              "0                24.0          Groceries                113.53   \n",
              "1                42.0            Unknown                 41.93   \n",
              "2                28.0           Clothing                424.36   \n",
              "3                 5.0            Unknown                991.93   \n",
              "4                25.0        Electronics                347.08   \n",
              "\n",
              "             income_qcut  ...  spending_level purchase_frequency_qcut  \\\n",
              "0    (92031.0, 115854.0]  ...               4          (15.5, 26.514]   \n",
              "1     (60038.5, 92031.0]  ...               3            (38.0, 50.0]   \n",
              "2  (115854.0, 1329680.0]  ...               2          (26.514, 38.0]   \n",
              "3   (30003.999, 60038.5]  ...               3           (0.999, 15.5]   \n",
              "4  (115854.0, 1329680.0]  ...               1          (15.5, 26.514]   \n",
              "\n",
              "   purchase_frequency_level membership_years_qcut  membership_years_score  \\\n",
              "0                         2          (0.999, 3.0]                       1   \n",
              "1                         4          (0.999, 3.0]                       1   \n",
              "2                         3          (0.999, 3.0]                       1   \n",
              "3                         1           (8.0, 10.0]                       4   \n",
              "4                         2          (0.999, 3.0]                       1   \n",
              "\n",
              "      last_purchase_amount_qcut  last_purchase_amount_score score_final  \\\n",
              "0  (10.399000000000001, 232.75]                           1          11   \n",
              "1  (10.399000000000001, 232.75]                           1          11   \n",
              "2              (232.75, 492.32]                           2          12   \n",
              "3              (736.37, 998.98]                           4          13   \n",
              "4              (232.75, 492.32]                           2          10   \n",
              "\n",
              "   score_final_qcut  categoria_cliente  \n",
              "0     (5.999, 11.0]             bronze  \n",
              "1     (5.999, 11.0]             bronze  \n",
              "2      (11.0, 13.0]              prata  \n",
              "3      (11.0, 13.0]              prata  \n",
              "4     (5.999, 11.0]             bronze  \n",
              "\n",
              "[5 rows x 22 columns]"
            ]
          },
          "execution_count": 134,
          "metadata": {},
          "output_type": "execute_result"
        }
      ],
      "source": [
        "df.head()"
      ]
    },
    {
      "cell_type": "code",
      "execution_count": 135,
      "metadata": {},
      "outputs": [
        {
          "name": "stdout",
          "output_type": "stream",
          "text": [
            "<class 'pandas.core.frame.DataFrame'>\n",
            "Index: 991 entries, 0 to 999\n",
            "Data columns (total 22 columns):\n",
            " #   Column                      Non-Null Count  Dtype   \n",
            "---  ------                      --------------  -----   \n",
            " 0   id                          991 non-null    object  \n",
            " 1   age                         991 non-null    int64   \n",
            " 2   gender                      991 non-null    object  \n",
            " 3   income                      991 non-null    int64   \n",
            " 4   spending_score              991 non-null    float64 \n",
            " 5   membership_years            991 non-null    float64 \n",
            " 6   purchase_frequency          991 non-null    float64 \n",
            " 7   preferred_category          991 non-null    object  \n",
            " 8   last_purchase_amount        991 non-null    float64 \n",
            " 9   income_qcut                 991 non-null    category\n",
            " 10  income_level                991 non-null    int64   \n",
            " 11  spending_qcut               991 non-null    category\n",
            " 12  spending_level              991 non-null    int64   \n",
            " 13  purchase_frequency_qcut     991 non-null    category\n",
            " 14  purchase_frequency_level    991 non-null    int64   \n",
            " 15  membership_years_qcut       991 non-null    category\n",
            " 16  membership_years_score      991 non-null    int64   \n",
            " 17  last_purchase_amount_qcut   991 non-null    category\n",
            " 18  last_purchase_amount_score  991 non-null    int64   \n",
            " 19  score_final                 991 non-null    int64   \n",
            " 20  score_final_qcut            991 non-null    category\n",
            " 21  categoria_cliente           991 non-null    object  \n",
            "dtypes: category(6), float64(4), int64(8), object(4)\n",
            "memory usage: 138.7+ KB\n"
          ]
        }
      ],
      "source": [
        "df.info()"
      ]
    },
    {
      "cell_type": "code",
      "execution_count": 136,
      "metadata": {
        "colab": {
          "base_uri": "https://localhost:8080/",
          "height": 472
        },
        "id": "D-jl4f60daCl",
        "outputId": "85165497-ce37-458c-8db4-81e0b5bb7686"
      },
      "outputs": [
        {
          "data": {
            "image/png": "[encoded data removed]",
            "text/plain": [
              "<Figure size 640x480 with 1 Axes>"
            ]
          },
          "metadata": {},
          "output_type": "display_data"
        }
      ],
      "source": [
        "contagem_categorias = df['categoria_cliente'].value_counts()\n",
        "\n",
        "# Criando o gráfico de barras\n",
        "plt.bar(contagem_categorias.index, contagem_categorias.values)\n",
        "\n",
        "# Configurando o título e os rótulos dos eixos\n",
        "plt.title('Distribuição de Clientes por Categoria de Score')\n",
        "plt.xlabel('Categoria do Cliente')\n",
        "plt.ylabel('Número de Clientes')\n",
        "\n",
        "# Exibindo o gráfico\n",
        "plt.show()"
      ]
    },
    {
      "cell_type": "code",
      "execution_count": null,
      "metadata": {
        "id": "o96MeVG1hDM1"
      },
      "outputs": [],
      "source": []
    },
    {
      "cell_type": "code",
      "execution_count": null,
      "metadata": {
        "id": "iRzXTLIsiNQO"
      },
      "outputs": [],
      "source": []
    },
    {
      "cell_type": "code",
      "execution_count": null,
      "metadata": {},
      "outputs": [],
      "source": []
    }
  ],
  "metadata": {
    "colab": {
      "provenance": []
    },
    "kernelspec": {
      "display_name": "Python 3",
      "name": "python3"
    },
    "language_info": {
      "codemirror_mode": {
        "name": "ipython",
        "version": 3
      },
      "file_extension": ".py",
      "mimetype": "text/x-python",
      "name": "python",
      "nbconvert_exporter": "python",
      "pygments_lexer": "ipython3",
      "version": "3.12.1"
    }
  },
  "nbformat": 4,
  "nbformat_minor": 0
}
